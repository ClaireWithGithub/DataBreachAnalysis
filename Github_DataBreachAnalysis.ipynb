{
 "cells": [
  {
   "cell_type": "code",
   "execution_count": 1,
   "metadata": {},
   "outputs": [],
   "source": [
    "import pandas as pd\n",
    "import numpy as np\n",
    "import matplotlib.pyplot as plt"
   ]
  },
  {
   "cell_type": "code",
   "execution_count": 2,
   "metadata": {},
   "outputs": [],
   "source": [
    "BreachedData = pd.read_excel('Data_Breach_Pooled_Data_April_7_2019.xlsx')"
   ]
  },
  {
   "cell_type": "code",
   "execution_count": 4,
   "metadata": {},
   "outputs": [
    {
     "data": {
      "text/html": [
       "<div>\n",
       "<style scoped>\n",
       "    .dataframe tbody tr th:only-of-type {\n",
       "        vertical-align: middle;\n",
       "    }\n",
       "\n",
       "    .dataframe tbody tr th {\n",
       "        vertical-align: top;\n",
       "    }\n",
       "\n",
       "    .dataframe thead th {\n",
       "        text-align: right;\n",
       "    }\n",
       "</style>\n",
       "<table border=\"1\" class=\"dataframe\">\n",
       "  <thead>\n",
       "    <tr style=\"text-align: right;\">\n",
       "      <th></th>\n",
       "      <th>Student.Name</th>\n",
       "      <th>Student.EID</th>\n",
       "      <th>Student.Email.address</th>\n",
       "      <th>BreachNo.</th>\n",
       "      <th>TICKER</th>\n",
       "      <th>YEAR.of.BREACH.</th>\n",
       "      <th>BreachID</th>\n",
       "      <th>Firm.Name</th>\n",
       "      <th>Year.of.Data</th>\n",
       "      <th>t</th>\n",
       "      <th>...</th>\n",
       "      <th>Advertising.Intensity</th>\n",
       "      <th>Foreign.Operations</th>\n",
       "      <th>Corporate.Restructuring</th>\n",
       "      <th>SIC.Code</th>\n",
       "      <th>Name.of.Primary.SIC.industry</th>\n",
       "      <th>CountOfSegments</th>\n",
       "      <th>Breach.Type</th>\n",
       "      <th>Type.of.organization</th>\n",
       "      <th>Total.Records</th>\n",
       "      <th>BreachDescription</th>\n",
       "    </tr>\n",
       "  </thead>\n",
       "  <tbody>\n",
       "    <tr>\n",
       "      <th>580</th>\n",
       "      <td>Claire Li</td>\n",
       "      <td>bl26377</td>\n",
       "      <td>bingqing.li@utexas.edu</td>\n",
       "      <td>123</td>\n",
       "      <td>CELG</td>\n",
       "      <td>2007</td>\n",
       "      <td>CELG2007</td>\n",
       "      <td>CELGENE CORP</td>\n",
       "      <td>2006</td>\n",
       "      <td>-1</td>\n",
       "      <td>...</td>\n",
       "      <td>0.0</td>\n",
       "      <td>0.0</td>\n",
       "      <td>0.0</td>\n",
       "      <td>2834.0</td>\n",
       "      <td>PHARMACEUTICAL PREPARATIONS</td>\n",
       "      <td>1.0</td>\n",
       "      <td>NaN</td>\n",
       "      <td>NaN</td>\n",
       "      <td>NaN</td>\n",
       "      <td>NaN</td>\n",
       "    </tr>\n",
       "    <tr>\n",
       "      <th>581</th>\n",
       "      <td>Claire Li</td>\n",
       "      <td>bl26377</td>\n",
       "      <td>bingqing.li@utexas.edu</td>\n",
       "      <td>123</td>\n",
       "      <td>CELG</td>\n",
       "      <td>2007</td>\n",
       "      <td>CELG2007</td>\n",
       "      <td>CELGENE CORP</td>\n",
       "      <td>2007</td>\n",
       "      <td>0</td>\n",
       "      <td>...</td>\n",
       "      <td>0.0</td>\n",
       "      <td>0.0</td>\n",
       "      <td>0.0</td>\n",
       "      <td>2834.0</td>\n",
       "      <td>PHARMACEUTICAL PREPARATIONS</td>\n",
       "      <td>1.0</td>\n",
       "      <td>PORT</td>\n",
       "      <td>BSR</td>\n",
       "      <td>1951.0</td>\n",
       "      <td>Four external computer hard drives used to bac...</td>\n",
       "    </tr>\n",
       "    <tr>\n",
       "      <th>582</th>\n",
       "      <td>Claire Li</td>\n",
       "      <td>bl26377</td>\n",
       "      <td>bingqing.li@utexas.edu</td>\n",
       "      <td>123</td>\n",
       "      <td>CELG</td>\n",
       "      <td>2007</td>\n",
       "      <td>CELG2007</td>\n",
       "      <td>CELGENE CORP</td>\n",
       "      <td>2008</td>\n",
       "      <td>1</td>\n",
       "      <td>...</td>\n",
       "      <td>0.0</td>\n",
       "      <td>1.0</td>\n",
       "      <td>0.0</td>\n",
       "      <td>2834.0</td>\n",
       "      <td>PHARMACEUTICAL PREPARATIONS</td>\n",
       "      <td>1.0</td>\n",
       "      <td>NaN</td>\n",
       "      <td>NaN</td>\n",
       "      <td>NaN</td>\n",
       "      <td>NaN</td>\n",
       "    </tr>\n",
       "    <tr>\n",
       "      <th>583</th>\n",
       "      <td>Claire Li</td>\n",
       "      <td>bl26377</td>\n",
       "      <td>bingqing.li@utexas.edu</td>\n",
       "      <td>123</td>\n",
       "      <td>CELG</td>\n",
       "      <td>2007</td>\n",
       "      <td>CELG2007</td>\n",
       "      <td>CELGENE CORP</td>\n",
       "      <td>2009</td>\n",
       "      <td>2</td>\n",
       "      <td>...</td>\n",
       "      <td>0.0</td>\n",
       "      <td>1.0</td>\n",
       "      <td>0.0</td>\n",
       "      <td>2834.0</td>\n",
       "      <td>PHARMACEUTICAL PREPARATIONS</td>\n",
       "      <td>1.0</td>\n",
       "      <td>NaN</td>\n",
       "      <td>NaN</td>\n",
       "      <td>NaN</td>\n",
       "      <td>NaN</td>\n",
       "    </tr>\n",
       "    <tr>\n",
       "      <th>584</th>\n",
       "      <td>Claire Li</td>\n",
       "      <td>bl26377</td>\n",
       "      <td>bingqing.li@utexas.edu</td>\n",
       "      <td>123</td>\n",
       "      <td>CELG</td>\n",
       "      <td>2007</td>\n",
       "      <td>CELG2007</td>\n",
       "      <td>CELGENE CORP</td>\n",
       "      <td>2010</td>\n",
       "      <td>3</td>\n",
       "      <td>...</td>\n",
       "      <td>0.0</td>\n",
       "      <td>1.0</td>\n",
       "      <td>0.0</td>\n",
       "      <td>2834.0</td>\n",
       "      <td>PHARMACEUTICAL PREPARATIONS</td>\n",
       "      <td>1.0</td>\n",
       "      <td>NaN</td>\n",
       "      <td>NaN</td>\n",
       "      <td>NaN</td>\n",
       "      <td>NaN</td>\n",
       "    </tr>\n",
       "  </tbody>\n",
       "</table>\n",
       "<p>5 rows × 108 columns</p>\n",
       "</div>"
      ],
      "text/plain": [
       "    Student.Name Student.EID   Student.Email.address  BreachNo. TICKER  \\\n",
       "580    Claire Li     bl26377  bingqing.li@utexas.edu        123   CELG   \n",
       "581    Claire Li     bl26377  bingqing.li@utexas.edu        123   CELG   \n",
       "582    Claire Li     bl26377  bingqing.li@utexas.edu        123   CELG   \n",
       "583    Claire Li     bl26377  bingqing.li@utexas.edu        123   CELG   \n",
       "584    Claire Li     bl26377  bingqing.li@utexas.edu        123   CELG   \n",
       "\n",
       "     YEAR.of.BREACH.  BreachID     Firm.Name  Year.of.Data  t  ...  \\\n",
       "580             2007  CELG2007  CELGENE CORP          2006 -1  ...   \n",
       "581             2007  CELG2007  CELGENE CORP          2007  0  ...   \n",
       "582             2007  CELG2007  CELGENE CORP          2008  1  ...   \n",
       "583             2007  CELG2007  CELGENE CORP          2009  2  ...   \n",
       "584             2007  CELG2007  CELGENE CORP          2010  3  ...   \n",
       "\n",
       "    Advertising.Intensity  Foreign.Operations  Corporate.Restructuring  \\\n",
       "580                   0.0                 0.0                      0.0   \n",
       "581                   0.0                 0.0                      0.0   \n",
       "582                   0.0                 1.0                      0.0   \n",
       "583                   0.0                 1.0                      0.0   \n",
       "584                   0.0                 1.0                      0.0   \n",
       "\n",
       "     SIC.Code  Name.of.Primary.SIC.industry  CountOfSegments  Breach.Type  \\\n",
       "580    2834.0   PHARMACEUTICAL PREPARATIONS              1.0          NaN   \n",
       "581    2834.0   PHARMACEUTICAL PREPARATIONS              1.0         PORT   \n",
       "582    2834.0   PHARMACEUTICAL PREPARATIONS              1.0          NaN   \n",
       "583    2834.0   PHARMACEUTICAL PREPARATIONS              1.0          NaN   \n",
       "584    2834.0   PHARMACEUTICAL PREPARATIONS              1.0          NaN   \n",
       "\n",
       "     Type.of.organization Total.Records  \\\n",
       "580                   NaN           NaN   \n",
       "581                   BSR        1951.0   \n",
       "582                   NaN           NaN   \n",
       "583                   NaN           NaN   \n",
       "584                   NaN           NaN   \n",
       "\n",
       "                                     BreachDescription  \n",
       "580                                                NaN  \n",
       "581  Four external computer hard drives used to bac...  \n",
       "582                                                NaN  \n",
       "583                                                NaN  \n",
       "584                                                NaN  \n",
       "\n",
       "[5 rows x 108 columns]"
      ]
     },
     "execution_count": 4,
     "metadata": {},
     "output_type": "execute_result"
    }
   ],
   "source": [
    "BreachedData[BreachedData['Student.Name']=='Claire Li'].head()"
   ]
  },
  {
   "cell_type": "code",
   "execution_count": 5,
   "metadata": {},
   "outputs": [
    {
     "data": {
      "text/plain": [
       "(2425, 108)"
      ]
     },
     "execution_count": 5,
     "metadata": {},
     "output_type": "execute_result"
    }
   ],
   "source": [
    "BreachedData.shape"
   ]
  },
  {
   "cell_type": "code",
   "execution_count": 6,
   "metadata": {},
   "outputs": [
    {
     "data": {
      "text/plain": [
       "485"
      ]
     },
     "execution_count": 6,
     "metadata": {},
     "output_type": "execute_result"
    }
   ],
   "source": [
    "# Number of cases\n",
    "len(BreachedData['BreachID'].unique())"
   ]
  },
  {
   "cell_type": "markdown",
   "metadata": {},
   "source": [
    "# Word Cloud"
   ]
  },
  {
   "cell_type": "code",
   "execution_count": 7,
   "metadata": {},
   "outputs": [],
   "source": [
    "# word frequency on Breach Description\n",
    "# grab word frequency using nltk library\n",
    "import nltk\n",
    "# stop words\n",
    "from nltk.corpus import stopwords    "
   ]
  },
  {
   "cell_type": "code",
   "execution_count": 8,
   "metadata": {},
   "outputs": [],
   "source": [
    "BreachDescription = BreachedData.BreachDescription"
   ]
  },
  {
   "cell_type": "code",
   "execution_count": 9,
   "metadata": {},
   "outputs": [],
   "source": [
    "BreachDescription = BreachDescription[~pd.isnull(BreachDescription)] "
   ]
  },
  {
   "cell_type": "code",
   "execution_count": 10,
   "metadata": {},
   "outputs": [
    {
     "data": {
      "text/plain": [
       "1     1-800-Flowers customer service received report...\n",
       "6     The Bank's third-party payment service provide...\n",
       "11    The US Federal Trade Commission filed a compla...\n",
       "16    Backup tapes with information from Ophthalmolo...\n",
       "21    name, address, payment card info\\r\\r\\nLocation...\n",
       "Name: BreachDescription, dtype: object"
      ]
     },
     "execution_count": 10,
     "metadata": {},
     "output_type": "execute_result"
    }
   ],
   "source": [
    "BreachDescription.head()"
   ]
  },
  {
   "cell_type": "code",
   "execution_count": 11,
   "metadata": {},
   "outputs": [
    {
     "data": {
      "text/plain": [
       "(740,)"
      ]
     },
     "execution_count": 11,
     "metadata": {},
     "output_type": "execute_result"
    }
   ],
   "source": [
    "# It's weird that the rows of description does not align with the rows of unique breach ID. \n",
    "# I later noticed that some descriptions repeat and stay the same in consecutive data breaches and took multiple lines\n",
    "BreachDescription.shape"
   ]
  },
  {
   "cell_type": "code",
   "execution_count": 12,
   "metadata": {},
   "outputs": [],
   "source": [
    "BreachDescription = BreachDescription.str.lower().to_string()\n",
    "# Alternative code: text = \" \".join(review for review in df.description)"
   ]
  },
  {
   "cell_type": "code",
   "execution_count": 13,
   "metadata": {},
   "outputs": [
    {
     "name": "stdout",
     "output_type": "stream",
     "text": [
      "There are 42919 words in the combination of all descriptions.\n"
     ]
    }
   ],
   "source": [
    "print (\"There are {} words in the combination of all descriptions.\".format(len(BreachDescription)))"
   ]
  },
  {
   "cell_type": "code",
   "execution_count": 14,
   "metadata": {},
   "outputs": [],
   "source": [
    "# tokenize the text () should be string\n",
    "tokenizer = nltk.tokenize.RegexpTokenizer(r'\\w+')\n",
    "tokens = tokenizer.tokenize(BreachDescription)"
   ]
  },
  {
   "cell_type": "code",
   "execution_count": 15,
   "metadata": {},
   "outputs": [],
   "source": [
    "# let's do a word count\n",
    "from collections import Counter\n",
    "\n",
    "# counter object\n",
    "words = Counter()\n",
    "\n",
    "# update counter with new words\n",
    "words.update(tokens)"
   ]
  },
  {
   "cell_type": "code",
   "execution_count": 16,
   "metadata": {},
   "outputs": [
    {
     "data": {
      "text/plain": [
       "[('a', 374),\n",
       " ('r', 303),\n",
       " ('of', 181),\n",
       " ('n', 136),\n",
       " ('the', 132),\n",
       " ('an', 110),\n",
       " ('was', 93),\n",
       " ('employee', 89),\n",
       " ('to', 88),\n",
       " ('s', 86)]"
      ]
     },
     "execution_count": 16,
     "metadata": {},
     "output_type": "execute_result"
    }
   ],
   "source": [
    "# first order check\n",
    "words.most_common()[:10]"
   ]
  },
  {
   "cell_type": "code",
   "execution_count": 17,
   "metadata": {},
   "outputs": [],
   "source": [
    "# store the stop words\n",
    "stopwords = stopwords.words('english')[:]"
   ]
  },
  {
   "cell_type": "code",
   "execution_count": 18,
   "metadata": {},
   "outputs": [],
   "source": [
    "# lets do this again: remove stop words, single letter variable names\n",
    "filter_words = Counter(x for x in tokens if x not in stopwords and x.isdigit() == False and len(x) != 1 and x.isalpha() == True)"
   ]
  },
  {
   "cell_type": "code",
   "execution_count": 19,
   "metadata": {},
   "outputs": [
    {
     "data": {
      "text/plain": [
       "[('employee', 89),\n",
       " ('laptop', 85),\n",
       " ('information', 76),\n",
       " ('stolen', 53),\n",
       " ('customers', 51),\n",
       " ('containing', 44),\n",
       " ('data', 38),\n",
       " ('computer', 34),\n",
       " ('location', 31),\n",
       " ('breached', 31),\n",
       " ('customer', 29),\n",
       " ('notified', 29),\n",
       " ('former', 29),\n",
       " ('personal', 25),\n",
       " ('breach', 25),\n",
       " ('inc', 20),\n",
       " ('company', 20),\n",
       " ('card', 19),\n",
       " ('names', 19),\n",
       " ('sent', 19)]"
      ]
     },
     "execution_count": 19,
     "metadata": {},
     "output_type": "execute_result"
    }
   ],
   "source": [
    "filter_words.most_common()[:20]"
   ]
  },
  {
   "cell_type": "code",
   "execution_count": 20,
   "metadata": {},
   "outputs": [
    {
     "data": {
      "text/plain": [
       "[('1', '1'),\n",
       " ('1', '800'),\n",
       " ('800', 'flowers'),\n",
       " ('flowers', 'customer'),\n",
       " ('customer', 'service')]"
      ]
     },
     "execution_count": 20,
     "metadata": {},
     "output_type": "execute_result"
    }
   ],
   "source": [
    "# check Employee for employee negligence/error leads to the breach or employee information is leaked\n",
    "from nltk.util import ngrams\n",
    "bgs = list(ngrams(tokens,2))\n",
    "bgs[:5]"
   ]
  },
  {
   "cell_type": "code",
   "execution_count": 21,
   "metadata": {},
   "outputs": [],
   "source": [
    "# lets do this again: remove stop words, single letter variable names\n",
    "# x中有1个word满足if就会录入filter_bgs\n",
    "filter_bgs = Counter(x for x in bgs for i in x if i not in stopwords and i.isdigit() == False and len(i) != 1 and i.isalpha() == True)"
   ]
  },
  {
   "cell_type": "code",
   "execution_count": 22,
   "metadata": {},
   "outputs": [
    {
     "data": {
      "text/plain": [
       "(('a', 'laptop'), 61)"
      ]
     },
     "execution_count": 22,
     "metadata": {},
     "output_type": "execute_result"
    }
   ],
   "source": [
    "filter_bgs.most_common()[1]"
   ]
  },
  {
   "cell_type": "code",
   "execution_count": 23,
   "metadata": {},
   "outputs": [
    {
     "name": "stdout",
     "output_type": "stream",
     "text": [
      "(('an', 'employee'), 50)\n",
      "(('employee', 's'), 16)\n",
      "(('employee', 'used'), 12)\n",
      "(('former', 'employee'), 12)\n",
      "(('dishonest', 'employee'), 12)\n"
     ]
    }
   ],
   "source": [
    "for dict in filter_bgs.most_common()[:50]:\n",
    "    if 'employee' in dict[0]:\n",
    "        print(dict)"
   ]
  },
  {
   "cell_type": "code",
   "execution_count": null,
   "metadata": {},
   "outputs": [],
   "source": [
    "# Create word cloud\n",
    "# git clone https://github.com/amueller/word_cloud.git\n",
    "# cd word_cloud\n",
    "# pip3 install ."
   ]
  },
  {
   "cell_type": "code",
   "execution_count": 24,
   "metadata": {},
   "outputs": [],
   "source": [
    "from os import path\n",
    "from PIL import Image\n",
    "from wordcloud import WordCloud, STOPWORDS, ImageColorGenerator\n",
    "% matplotlib inline\n",
    "import warnings\n",
    "warnings.filterwarnings(\"ignore\")"
   ]
  },
  {
   "cell_type": "code",
   "execution_count": 25,
   "metadata": {},
   "outputs": [],
   "source": [
    "# Create stopword list:\n",
    "stopwords = set(STOPWORDS)\n",
    "stopwords.update([\"may\", \"one\", \"inc\", 'breach','data','breached'])"
   ]
  },
  {
   "cell_type": "code",
   "execution_count": 26,
   "metadata": {},
   "outputs": [
    {
     "data": {
      "image/png": "[encoded data removed]",
      "text/plain": [
       "<Figure size 432x288 with 1 Axes>"
      ]
     },
     "metadata": {},
     "output_type": "display_data"
    }
   ],
   "source": [
    "# Create and generate a word cloud image:\n",
    "# lower max_font_size, change the maximum number of word and lighten the background:\n",
    "wordcloud = WordCloud(stopwords=stopwords, max_words=50, background_color=\"white\").generate(BreachDescription)\n",
    "# Display the generated image:\n",
    "plt.figure()\n",
    "# interpolation=\"bilinear\" is to make the displayed image appear more smoothly\n",
    "plt.imshow(wordcloud, interpolation=\"bilinear\")\n",
    "plt.axis(\"off\")\n",
    "plt.show()"
   ]
  },
  {
   "cell_type": "code",
   "execution_count": 61,
   "metadata": {},
   "outputs": [
    {
     "data": {
      "text/plain": [
       "<wordcloud.wordcloud.WordCloud at 0x1a17bea320>"
      ]
     },
     "execution_count": 61,
     "metadata": {},
     "output_type": "execute_result"
    }
   ],
   "source": [
    "# Save the image in the img folder:\n",
    "wordcloud.to_file(\"WordCloud.png\")"
   ]
  },
  {
   "cell_type": "markdown",
   "metadata": {},
   "source": [
    "# Breach Type"
   ]
  },
  {
   "cell_type": "code",
   "execution_count": 93,
   "metadata": {},
   "outputs": [
    {
     "data": {
      "text/plain": [
       "1     HACK\n",
       "6     UNKN\n",
       "11    DISC\n",
       "16    PORT\n",
       "21    HACK\n",
       "Name: Breach.Type, dtype: object"
      ]
     },
     "execution_count": 93,
     "metadata": {},
     "output_type": "execute_result"
    }
   ],
   "source": [
    "BreachType = BreachedData['Breach.Type'].dropna()\n",
    "BreachType.head()"
   ]
  },
  {
   "cell_type": "code",
   "execution_count": 94,
   "metadata": {},
   "outputs": [
    {
     "data": {
      "text/plain": [
       "1     HACK\n",
       "11    DISC\n",
       "16    PORT\n",
       "21    HACK\n",
       "26    PHYS\n",
       "Name: Breach.Type, dtype: object"
      ]
     },
     "execution_count": 94,
     "metadata": {},
     "output_type": "execute_result"
    }
   ],
   "source": [
    "# Drop a row if it contains a certain value \n",
    "BreachType = BreachType[BreachType != 'UNKN']\n",
    "BreachType.head()"
   ]
  },
  {
   "cell_type": "code",
   "execution_count": 101,
   "metadata": {},
   "outputs": [
    {
     "data": {
      "text/plain": [
       "HACK    210\n",
       "PORT    156\n",
       "DISC    132\n",
       "INSD    105\n",
       "PHYS     57\n",
       "CARD     29\n",
       "STAT     19\n",
       "Name: Breach.Type, dtype: int64"
      ]
     },
     "execution_count": 101,
     "metadata": {},
     "output_type": "execute_result"
    }
   ],
   "source": [
    "typeCount = BreachType.value_counts()\n",
    "typeCount"
   ]
  },
  {
   "cell_type": "code",
   "execution_count": 63,
   "metadata": {},
   "outputs": [
    {
     "data": {
      "text/plain": [
       "array([nan, 'HACK', 'UNKN', 'DISC', 'PORT', 'PHYS', 'INSD', 'STAT',\n",
       "       'CARD'], dtype=object)"
      ]
     },
     "execution_count": 63,
     "metadata": {},
     "output_type": "execute_result"
    }
   ],
   "source": [
    "BreachedData['Breach.Type'].unique()"
   ]
  },
  {
   "cell_type": "code",
   "execution_count": 143,
   "metadata": {},
   "outputs": [
    {
     "name": "stdout",
     "output_type": "stream",
     "text": [
      "Index(['HACK', 'PORT', 'DISC', 'INSD', 'PHYS', 'CARD', 'STAT'], dtype='object')\n",
      "['HACK' 'DISC' 'PORT' 'PHYS' 'INSD' 'STAT' 'CARD']\n",
      "7\n"
     ]
    }
   ],
   "source": [
    "print(typeCount.index)\n",
    "print(BreachType.unique())\n",
    "print(len(BreachType.unique()))"
   ]
  },
  {
   "cell_type": "code",
   "execution_count": 145,
   "metadata": {},
   "outputs": [
    {
     "data": {
      "image/png": "[encoded data removed]",
      "text/plain": [
       "<Figure size 432x288 with 1 Axes>"
      ]
     },
     "metadata": {},
     "output_type": "display_data"
    }
   ],
   "source": [
    "# Pie chart\n",
    "labels = typeCount.index\n",
    "sizes = BreachType.value_counts() #typeCount\n",
    "# only \"explode\" the 2nd slice\n",
    "explode = (0, 0,0.1,0,0,0,0)  \n",
    "#colors\n",
    "colors = ['#ff9999','#66b3ff','#99ff99','#ffcc99','#9999ff','#ffff99','#80ffff']\n",
    "fig1, ax1 = plt.subplots()\n",
    "ax1.pie(sizes, explode=explode, labels=labels, autopct='%1.1f%%', colors=colors,\n",
    "        shadow=True, startangle=90, pctdistance=0.88)\n",
    "# Equal aspect ratio ensures that pie is drawn as a circle\n",
    "ax1.axis('equal')  \n",
    "plt.tight_layout()\n",
    "plt.show()"
   ]
  },
  {
   "cell_type": "code",
   "execution_count": 122,
   "metadata": {},
   "outputs": [
    {
     "data": {
      "text/plain": [
       "132"
      ]
     },
     "execution_count": 122,
     "metadata": {},
     "output_type": "execute_result"
    }
   ],
   "source": [
    "BreachType.value_counts().DISC"
   ]
  },
  {
   "cell_type": "code",
   "execution_count": 131,
   "metadata": {},
   "outputs": [
    {
     "data": {
      "text/plain": [
       "HACK    210\n",
       "PORT    156\n",
       "INSD    105\n",
       "PHYS     57\n",
       "CARD     29\n",
       "STAT     19\n",
       "Name: Breach.Type, dtype: int64"
      ]
     },
     "execution_count": 131,
     "metadata": {},
     "output_type": "execute_result"
    }
   ],
   "source": [
    "typeCount.drop('DISC')"
   ]
  },
  {
   "cell_type": "code",
   "execution_count": 129,
   "metadata": {},
   "outputs": [
    {
     "data": {
      "text/plain": [
       "576"
      ]
     },
     "execution_count": 129,
     "metadata": {},
     "output_type": "execute_result"
    }
   ],
   "source": [
    "sum(typeCount.drop('DISC'))"
   ]
  },
  {
   "cell_type": "markdown",
   "metadata": {},
   "source": [
    "## unintentional vs intentional"
   ]
  },
  {
   "cell_type": "code",
   "execution_count": 148,
   "metadata": {},
   "outputs": [
    {
     "data": {
      "image/png": "[encoded data removed]",
      "text/plain": [
       "<Figure size 432x288 with 1 Axes>"
      ]
     },
     "metadata": {},
     "output_type": "display_data"
    }
   ],
   "source": [
    "# define DISC as unintentional\n",
    "# Pie chart\n",
    "labels2 = ['unintentional', 'intentional']\n",
    "sizes2 = [BreachType.value_counts().DISC, sum(typeCount.drop('DISC'))]\n",
    "colors2 = ['#ccff99','#99e6ff']\n",
    "fig2, ax2 = plt.subplots()\n",
    "ax2.pie(sizes2, labels=labels2, autopct='%1.1f%%', colors=colors2,\n",
    "        shadow=True, startangle=290)\n",
    "# Equal aspect ratio ensures that pie is drawn as a circle\n",
    "ax2.axis('equal')  \n",
    "plt.tight_layout()\n",
    "plt.show()"
   ]
  },
  {
   "cell_type": "code",
   "execution_count": 14,
   "metadata": {},
   "outputs": [
    {
     "data": {
      "text/html": [
       "<div>\n",
       "<style scoped>\n",
       "    .dataframe tbody tr th:only-of-type {\n",
       "        vertical-align: middle;\n",
       "    }\n",
       "\n",
       "    .dataframe tbody tr th {\n",
       "        vertical-align: top;\n",
       "    }\n",
       "\n",
       "    .dataframe thead th {\n",
       "        text-align: right;\n",
       "    }\n",
       "</style>\n",
       "<table border=\"1\" class=\"dataframe\">\n",
       "  <thead>\n",
       "    <tr style=\"text-align: right;\">\n",
       "      <th></th>\n",
       "      <th>Student.Name</th>\n",
       "      <th>Student.EID</th>\n",
       "      <th>Student.Email.address</th>\n",
       "      <th>BreachNo.</th>\n",
       "      <th>TICKER</th>\n",
       "      <th>YEAR.of.BREACH.</th>\n",
       "      <th>BreachID</th>\n",
       "      <th>Firm.Name</th>\n",
       "      <th>Year.of.Data</th>\n",
       "      <th>t</th>\n",
       "      <th>...</th>\n",
       "      <th>Advertising.Intensity</th>\n",
       "      <th>Foreign.Operations</th>\n",
       "      <th>Corporate.Restructuring</th>\n",
       "      <th>SIC.Code</th>\n",
       "      <th>Name.of.Primary.SIC.industry</th>\n",
       "      <th>CountOfSegments</th>\n",
       "      <th>Breach.Type</th>\n",
       "      <th>Type.of.organization</th>\n",
       "      <th>Total.Records</th>\n",
       "      <th>BreachDescription</th>\n",
       "    </tr>\n",
       "  </thead>\n",
       "  <tbody>\n",
       "    <tr>\n",
       "      <th>1</th>\n",
       "      <td>Lovekesh Bansal</td>\n",
       "      <td>lb35533</td>\n",
       "      <td>lovekesh@utexas.edu</td>\n",
       "      <td>1</td>\n",
       "      <td>FLWS</td>\n",
       "      <td>2016</td>\n",
       "      <td>FLWS2016</td>\n",
       "      <td>1-800-FLOWERS.COM</td>\n",
       "      <td>2016</td>\n",
       "      <td>0</td>\n",
       "      <td>...</td>\n",
       "      <td>0.262777</td>\n",
       "      <td>0.0</td>\n",
       "      <td>0.0</td>\n",
       "      <td>5992.0</td>\n",
       "      <td>FLORISTS</td>\n",
       "      <td>2.0</td>\n",
       "      <td>HACK</td>\n",
       "      <td>BSO</td>\n",
       "      <td>0.0</td>\n",
       "      <td>1-800-Flowers customer service received report...</td>\n",
       "    </tr>\n",
       "    <tr>\n",
       "      <th>6</th>\n",
       "      <td>Lovekesh Bansal</td>\n",
       "      <td>lb35533</td>\n",
       "      <td>lovekesh@utexas.edu</td>\n",
       "      <td>2</td>\n",
       "      <td>SRCE</td>\n",
       "      <td>2010</td>\n",
       "      <td>SRCE2010</td>\n",
       "      <td>1ST SOURCE CORP</td>\n",
       "      <td>2010</td>\n",
       "      <td>0</td>\n",
       "      <td>...</td>\n",
       "      <td>0.000849</td>\n",
       "      <td>0.0</td>\n",
       "      <td>0.0</td>\n",
       "      <td>6020.0</td>\n",
       "      <td>COMMERCIAL AND STOCK SAVINGS BANKS</td>\n",
       "      <td>NaN</td>\n",
       "      <td>UNKN</td>\n",
       "      <td>BSF</td>\n",
       "      <td>0.0</td>\n",
       "      <td>The Bank's third-party payment service provide...</td>\n",
       "    </tr>\n",
       "    <tr>\n",
       "      <th>11</th>\n",
       "      <td>Aparna Aidith</td>\n",
       "      <td>aa79444</td>\n",
       "      <td>aparna.aidith@utexas.edu</td>\n",
       "      <td>3</td>\n",
       "      <td>AAN</td>\n",
       "      <td>2013</td>\n",
       "      <td>AAN2013</td>\n",
       "      <td>AARON'S INC</td>\n",
       "      <td>2013</td>\n",
       "      <td>0</td>\n",
       "      <td>...</td>\n",
       "      <td>0.023534</td>\n",
       "      <td>1.0</td>\n",
       "      <td>0.0</td>\n",
       "      <td>7359.0</td>\n",
       "      <td>SERVICES-EQUIPMENT RENTAL &amp; LEASING, NEC</td>\n",
       "      <td>7.0</td>\n",
       "      <td>DISC</td>\n",
       "      <td>BSR</td>\n",
       "      <td>0.0</td>\n",
       "      <td>The US Federal Trade Commission filed a compla...</td>\n",
       "    </tr>\n",
       "    <tr>\n",
       "      <th>16</th>\n",
       "      <td>Aparna Aidith</td>\n",
       "      <td>aa79444</td>\n",
       "      <td>aparna.aidith@utexas.edu</td>\n",
       "      <td>4</td>\n",
       "      <td>ABT</td>\n",
       "      <td>2011</td>\n",
       "      <td>ABT2011</td>\n",
       "      <td>ABBOTT LABORATORIES</td>\n",
       "      <td>2011</td>\n",
       "      <td>0</td>\n",
       "      <td>...</td>\n",
       "      <td>0.000000</td>\n",
       "      <td>1.0</td>\n",
       "      <td>1.0</td>\n",
       "      <td>2834.0</td>\n",
       "      <td>PHARMACEUTICAL PREPARATIONS</td>\n",
       "      <td>4.0</td>\n",
       "      <td>PORT</td>\n",
       "      <td>MED</td>\n",
       "      <td>0.0</td>\n",
       "      <td>Backup tapes with information from Ophthalmolo...</td>\n",
       "    </tr>\n",
       "    <tr>\n",
       "      <th>21</th>\n",
       "      <td>Aparna Aidith</td>\n",
       "      <td>aa79444</td>\n",
       "      <td>aparna.aidith@utexas.edu</td>\n",
       "      <td>5</td>\n",
       "      <td>ABT</td>\n",
       "      <td>2017</td>\n",
       "      <td>ABT2017</td>\n",
       "      <td>ABBOTT LABORATORIES</td>\n",
       "      <td>2017</td>\n",
       "      <td>0</td>\n",
       "      <td>...</td>\n",
       "      <td>0.000000</td>\n",
       "      <td>1.0</td>\n",
       "      <td>1.0</td>\n",
       "      <td>2834.0</td>\n",
       "      <td>PHARMACEUTICAL PREPARATIONS</td>\n",
       "      <td>3.0</td>\n",
       "      <td>HACK</td>\n",
       "      <td>MED</td>\n",
       "      <td>0.0</td>\n",
       "      <td>name, address, payment card info\\r\\r\\nLocation...</td>\n",
       "    </tr>\n",
       "  </tbody>\n",
       "</table>\n",
       "<p>5 rows × 108 columns</p>\n",
       "</div>"
      ],
      "text/plain": [
       "       Student.Name Student.EID     Student.Email.address  BreachNo. TICKER  \\\n",
       "1   Lovekesh Bansal     lb35533       lovekesh@utexas.edu          1   FLWS   \n",
       "6   Lovekesh Bansal     lb35533       lovekesh@utexas.edu          2   SRCE   \n",
       "11    Aparna Aidith     aa79444  aparna.aidith@utexas.edu          3    AAN   \n",
       "16    Aparna Aidith     aa79444  aparna.aidith@utexas.edu          4    ABT   \n",
       "21    Aparna Aidith     aa79444  aparna.aidith@utexas.edu          5    ABT   \n",
       "\n",
       "    YEAR.of.BREACH.  BreachID            Firm.Name  Year.of.Data  t  ...  \\\n",
       "1              2016  FLWS2016    1-800-FLOWERS.COM          2016  0  ...   \n",
       "6              2010  SRCE2010      1ST SOURCE CORP          2010  0  ...   \n",
       "11             2013   AAN2013          AARON'S INC          2013  0  ...   \n",
       "16             2011   ABT2011  ABBOTT LABORATORIES          2011  0  ...   \n",
       "21             2017   ABT2017  ABBOTT LABORATORIES          2017  0  ...   \n",
       "\n",
       "   Advertising.Intensity  Foreign.Operations  Corporate.Restructuring  \\\n",
       "1               0.262777                 0.0                      0.0   \n",
       "6               0.000849                 0.0                      0.0   \n",
       "11              0.023534                 1.0                      0.0   \n",
       "16              0.000000                 1.0                      1.0   \n",
       "21              0.000000                 1.0                      1.0   \n",
       "\n",
       "    SIC.Code              Name.of.Primary.SIC.industry  CountOfSegments  \\\n",
       "1     5992.0                                  FLORISTS              2.0   \n",
       "6     6020.0        COMMERCIAL AND STOCK SAVINGS BANKS              NaN   \n",
       "11    7359.0  SERVICES-EQUIPMENT RENTAL & LEASING, NEC              7.0   \n",
       "16    2834.0               PHARMACEUTICAL PREPARATIONS              4.0   \n",
       "21    2834.0               PHARMACEUTICAL PREPARATIONS              3.0   \n",
       "\n",
       "    Breach.Type  Type.of.organization Total.Records  \\\n",
       "1          HACK                   BSO           0.0   \n",
       "6          UNKN                   BSF           0.0   \n",
       "11         DISC                   BSR           0.0   \n",
       "16         PORT                   MED           0.0   \n",
       "21         HACK                   MED           0.0   \n",
       "\n",
       "                                    BreachDescription  \n",
       "1   1-800-Flowers customer service received report...  \n",
       "6   The Bank's third-party payment service provide...  \n",
       "11  The US Federal Trade Commission filed a compla...  \n",
       "16  Backup tapes with information from Ophthalmolo...  \n",
       "21  name, address, payment card info\\r\\r\\nLocation...  \n",
       "\n",
       "[5 rows x 108 columns]"
      ]
     },
     "execution_count": 14,
     "metadata": {},
     "output_type": "execute_result"
    }
   ],
   "source": [
    "df_t0 = BreachedData[BreachedData.t==0]\n",
    "df_t0.head()"
   ]
  },
  {
   "cell_type": "code",
   "execution_count": 81,
   "metadata": {},
   "outputs": [
    {
     "data": {
      "text/plain": [
       "(485, 108)"
      ]
     },
     "execution_count": 81,
     "metadata": {},
     "output_type": "execute_result"
    }
   ],
   "source": [
    "df_t0.shape"
   ]
  },
  {
   "cell_type": "code",
   "execution_count": 187,
   "metadata": {},
   "outputs": [
    {
     "data": {
      "text/html": [
       "<div>\n",
       "<style scoped>\n",
       "    .dataframe tbody tr th:only-of-type {\n",
       "        vertical-align: middle;\n",
       "    }\n",
       "\n",
       "    .dataframe tbody tr th {\n",
       "        vertical-align: top;\n",
       "    }\n",
       "\n",
       "    .dataframe thead th {\n",
       "        text-align: right;\n",
       "    }\n",
       "</style>\n",
       "<table border=\"1\" class=\"dataframe\">\n",
       "  <thead>\n",
       "    <tr style=\"text-align: right;\">\n",
       "      <th></th>\n",
       "      <th>BreachAnnounceDate</th>\n",
       "      <th>BreachDiscoveryDate</th>\n",
       "      <th>BreachDate</th>\n",
       "      <th>CEODuality</th>\n",
       "    </tr>\n",
       "  </thead>\n",
       "  <tbody>\n",
       "    <tr>\n",
       "      <th>966</th>\n",
       "      <td>2018-09-28 00:00:00</td>\n",
       "      <td>2018-09-28 00:00:00</td>\n",
       "      <td>2018-09-28 00:00:00</td>\n",
       "      <td>1.0</td>\n",
       "    </tr>\n",
       "    <tr>\n",
       "      <th>1346</th>\n",
       "      <td>2018-06-15 00:00:00</td>\n",
       "      <td>2018-06-15 00:00:00</td>\n",
       "      <td>2018-05-13 00:00:00</td>\n",
       "      <td>0.0</td>\n",
       "    </tr>\n",
       "    <tr>\n",
       "      <th>131</th>\n",
       "      <td>2018-08-28 00:00:00</td>\n",
       "      <td>2018-08-02 00:00:00</td>\n",
       "      <td>2017-09-08 00:00:00</td>\n",
       "      <td>1.0</td>\n",
       "    </tr>\n",
       "    <tr>\n",
       "      <th>451</th>\n",
       "      <td>2018-02-13 00:00:00</td>\n",
       "      <td>2017-12-15 00:00:00</td>\n",
       "      <td>2017-11-21 00:00:00</td>\n",
       "      <td>0.0</td>\n",
       "    </tr>\n",
       "    <tr>\n",
       "      <th>2276</th>\n",
       "      <td>2018-07-27 00:00:00</td>\n",
       "      <td>2018-04-17 00:00:00</td>\n",
       "      <td>2017-12-20 00:00:00</td>\n",
       "      <td>0.0</td>\n",
       "    </tr>\n",
       "  </tbody>\n",
       "</table>\n",
       "</div>"
      ],
      "text/plain": [
       "       BreachAnnounceDate  BreachDiscoveryDate           BreachDate  \\\n",
       "966   2018-09-28 00:00:00  2018-09-28 00:00:00  2018-09-28 00:00:00   \n",
       "1346  2018-06-15 00:00:00  2018-06-15 00:00:00  2018-05-13 00:00:00   \n",
       "131   2018-08-28 00:00:00  2018-08-02 00:00:00  2017-09-08 00:00:00   \n",
       "451   2018-02-13 00:00:00  2017-12-15 00:00:00  2017-11-21 00:00:00   \n",
       "2276  2018-07-27 00:00:00  2018-04-17 00:00:00  2017-12-20 00:00:00   \n",
       "\n",
       "      CEODuality  \n",
       "966          1.0  \n",
       "1346         0.0  \n",
       "131          1.0  \n",
       "451          0.0  \n",
       "2276         0.0  "
      ]
     },
     "execution_count": 187,
     "metadata": {},
     "output_type": "execute_result"
    }
   ],
   "source": [
    "CEODiffTime = df_t0[['BreachAnnounceDate','BreachDiscoveryDate','BreachDate','CEODuality']].dropna()\n",
    "CEODiffTime.head()"
   ]
  },
  {
   "cell_type": "code",
   "execution_count": 188,
   "metadata": {},
   "outputs": [],
   "source": [
    "import datetime\n",
    "CEODiffTime = CEODiffTime[CEODiffTime['BreachAnnounceDate'].apply(lambda x: type(x) == datetime.datetime)]\n",
    "CEODiffTime = CEODiffTime[CEODiffTime['BreachDiscoveryDate'].apply(lambda x: type(x) == datetime.datetime)]\n",
    "CEODiffTime = CEODiffTime[CEODiffTime['BreachDate'].apply(lambda x: type(x) == datetime.datetime)]"
   ]
  },
  {
   "cell_type": "code",
   "execution_count": 189,
   "metadata": {},
   "outputs": [
    {
     "data": {
      "text/plain": [
       "(367, 4)"
      ]
     },
     "execution_count": 189,
     "metadata": {},
     "output_type": "execute_result"
    }
   ],
   "source": [
    "CEODiffTime.shape"
   ]
  },
  {
   "cell_type": "code",
   "execution_count": 192,
   "metadata": {},
   "outputs": [],
   "source": [
    "CEODiffTime['Diff'] = CEODiffTime['BreachDiscoveryDate']-CEODiffTime['BreachDate']"
   ]
  },
  {
   "cell_type": "code",
   "execution_count": 190,
   "metadata": {},
   "outputs": [],
   "source": [
    "CEODiffTime['Diff_'] = pd.Series(delta.days for delta in (CEODiffTime['BreachDiscoveryDate']-CEODiffTime['BreachDate']))\n"
   ]
  },
  {
   "cell_type": "code",
   "execution_count": 193,
   "metadata": {},
   "outputs": [
    {
     "data": {
      "text/html": [
       "<div>\n",
       "<style scoped>\n",
       "    .dataframe tbody tr th:only-of-type {\n",
       "        vertical-align: middle;\n",
       "    }\n",
       "\n",
       "    .dataframe tbody tr th {\n",
       "        vertical-align: top;\n",
       "    }\n",
       "\n",
       "    .dataframe thead th {\n",
       "        text-align: right;\n",
       "    }\n",
       "</style>\n",
       "<table border=\"1\" class=\"dataframe\">\n",
       "  <thead>\n",
       "    <tr style=\"text-align: right;\">\n",
       "      <th></th>\n",
       "      <th>BreachAnnounceDate</th>\n",
       "      <th>BreachDiscoveryDate</th>\n",
       "      <th>BreachDate</th>\n",
       "      <th>CEODuality</th>\n",
       "      <th>Diff_</th>\n",
       "      <th>Diff</th>\n",
       "    </tr>\n",
       "  </thead>\n",
       "  <tbody>\n",
       "    <tr>\n",
       "      <th>966</th>\n",
       "      <td>2018-09-28 00:00:00</td>\n",
       "      <td>2018-09-28 00:00:00</td>\n",
       "      <td>2018-09-28 00:00:00</td>\n",
       "      <td>1.0</td>\n",
       "      <td>NaN</td>\n",
       "      <td>0 days</td>\n",
       "    </tr>\n",
       "    <tr>\n",
       "      <th>1346</th>\n",
       "      <td>2018-06-15 00:00:00</td>\n",
       "      <td>2018-06-15 00:00:00</td>\n",
       "      <td>2018-05-13 00:00:00</td>\n",
       "      <td>0.0</td>\n",
       "      <td>NaN</td>\n",
       "      <td>33 days</td>\n",
       "    </tr>\n",
       "    <tr>\n",
       "      <th>131</th>\n",
       "      <td>2018-08-28 00:00:00</td>\n",
       "      <td>2018-08-02 00:00:00</td>\n",
       "      <td>2017-09-08 00:00:00</td>\n",
       "      <td>1.0</td>\n",
       "      <td>0.0</td>\n",
       "      <td>328 days</td>\n",
       "    </tr>\n",
       "    <tr>\n",
       "      <th>451</th>\n",
       "      <td>2018-02-13 00:00:00</td>\n",
       "      <td>2017-12-15 00:00:00</td>\n",
       "      <td>2017-11-21 00:00:00</td>\n",
       "      <td>0.0</td>\n",
       "      <td>NaN</td>\n",
       "      <td>24 days</td>\n",
       "    </tr>\n",
       "    <tr>\n",
       "      <th>2276</th>\n",
       "      <td>2018-07-27 00:00:00</td>\n",
       "      <td>2018-04-17 00:00:00</td>\n",
       "      <td>2017-12-20 00:00:00</td>\n",
       "      <td>0.0</td>\n",
       "      <td>NaN</td>\n",
       "      <td>118 days</td>\n",
       "    </tr>\n",
       "  </tbody>\n",
       "</table>\n",
       "</div>"
      ],
      "text/plain": [
       "       BreachAnnounceDate  BreachDiscoveryDate           BreachDate  \\\n",
       "966   2018-09-28 00:00:00  2018-09-28 00:00:00  2018-09-28 00:00:00   \n",
       "1346  2018-06-15 00:00:00  2018-06-15 00:00:00  2018-05-13 00:00:00   \n",
       "131   2018-08-28 00:00:00  2018-08-02 00:00:00  2017-09-08 00:00:00   \n",
       "451   2018-02-13 00:00:00  2017-12-15 00:00:00  2017-11-21 00:00:00   \n",
       "2276  2018-07-27 00:00:00  2018-04-17 00:00:00  2017-12-20 00:00:00   \n",
       "\n",
       "      CEODuality  Diff_     Diff  \n",
       "966          1.0    NaN   0 days  \n",
       "1346         0.0    NaN  33 days  \n",
       "131          1.0    0.0 328 days  \n",
       "451          0.0    NaN  24 days  \n",
       "2276         0.0    NaN 118 days  "
      ]
     },
     "execution_count": 193,
     "metadata": {},
     "output_type": "execute_result"
    }
   ],
   "source": [
    "CEODiffTime.head()"
   ]
  },
  {
   "cell_type": "code",
   "execution_count": 194,
   "metadata": {},
   "outputs": [
    {
     "data": {
      "text/plain": [
       "1.0    251\n",
       "0.0    116\n",
       "Name: CEODuality, dtype: int64"
      ]
     },
     "execution_count": 194,
     "metadata": {},
     "output_type": "execute_result"
    }
   ],
   "source": [
    "CEODiffTime.CEODuality.value_counts()"
   ]
  },
  {
   "cell_type": "code",
   "execution_count": 195,
   "metadata": {},
   "outputs": [
    {
     "data": {
      "text/plain": [
       "Timedelta('213 days 23:25:34.661354')"
      ]
     },
     "execution_count": 195,
     "metadata": {},
     "output_type": "execute_result"
    }
   ],
   "source": [
    "CEODiffTime[CEODiffTime['CEODuality']==1]['Diff'].mean()"
   ]
  },
  {
   "cell_type": "code",
   "execution_count": 196,
   "metadata": {},
   "outputs": [
    {
     "data": {
      "text/plain": [
       "Timedelta('92 days 21:18:37.241379')"
      ]
     },
     "execution_count": 196,
     "metadata": {},
     "output_type": "execute_result"
    }
   ],
   "source": [
    "CEODiffTime[CEODiffTime['CEODuality']==0]['Diff'].mean()"
   ]
  },
  {
   "cell_type": "code",
   "execution_count": 135,
   "metadata": {},
   "outputs": [
    {
     "data": {
      "text/plain": [
       "array([1., 0.])"
      ]
     },
     "execution_count": 135,
     "metadata": {},
     "output_type": "execute_result"
    }
   ],
   "source": [
    "CEODiffTime.CEODuality.unique()"
   ]
  },
  {
   "cell_type": "code",
   "execution_count": 198,
   "metadata": {},
   "outputs": [
    {
     "data": {
      "image/png": "[encoded data removed]",
      "text/plain": [
       "<Figure size 864x36 with 1 Axes>"
      ]
     },
     "metadata": {},
     "output_type": "display_data"
    }
   ],
   "source": [
    "plt.figure(figsize=(12,0.5))\n",
    "\n",
    "# Make dataset\n",
    "height = [213,92]\n",
    "bars = ('1', '0')\n",
    "y_pos = np.arange(len(bars))\n",
    "\n",
    "width = [0.7,.7]\n",
    "\n",
    "# Create horizontal bars\n",
    "plt.barh(y_pos, height, width)\n",
    " \n",
    "# Create names on the y-axis\n",
    "plt.yticks(y_pos, bars)\n",
    "\n",
    "plt.xlabel(\"Average DiscTime Difference: days\")\n",
    "plt.ylabel(\"CEODuality\")\n",
    "# Show graphic\n",
    "plt.show()\n"
   ]
  },
  {
   "cell_type": "markdown",
   "metadata": {},
   "source": [
    "# Announcement"
   ]
  },
  {
   "cell_type": "code",
   "execution_count": 100,
   "metadata": {},
   "outputs": [
    {
     "data": {
      "text/html": [
       "<div>\n",
       "<style scoped>\n",
       "    .dataframe tbody tr th:only-of-type {\n",
       "        vertical-align: middle;\n",
       "    }\n",
       "\n",
       "    .dataframe tbody tr th {\n",
       "        vertical-align: top;\n",
       "    }\n",
       "\n",
       "    .dataframe thead th {\n",
       "        text-align: right;\n",
       "    }\n",
       "</style>\n",
       "<table border=\"1\" class=\"dataframe\">\n",
       "  <thead>\n",
       "    <tr style=\"text-align: right;\">\n",
       "      <th></th>\n",
       "      <th>BreachAnnounceDate</th>\n",
       "      <th>BreachDiscoveryDate</th>\n",
       "      <th>CEODuality</th>\n",
       "    </tr>\n",
       "  </thead>\n",
       "  <tbody>\n",
       "    <tr>\n",
       "      <th>966</th>\n",
       "      <td>2018-09-28 00:00:00</td>\n",
       "      <td>2018-09-28 00:00:00</td>\n",
       "      <td>1.0</td>\n",
       "    </tr>\n",
       "    <tr>\n",
       "      <th>1346</th>\n",
       "      <td>2018-06-15 00:00:00</td>\n",
       "      <td>2018-06-15 00:00:00</td>\n",
       "      <td>0.0</td>\n",
       "    </tr>\n",
       "    <tr>\n",
       "      <th>131</th>\n",
       "      <td>2018-08-28 00:00:00</td>\n",
       "      <td>2018-08-02 00:00:00</td>\n",
       "      <td>1.0</td>\n",
       "    </tr>\n",
       "    <tr>\n",
       "      <th>2296</th>\n",
       "      <td>2018-02-21 00:00:00</td>\n",
       "      <td>2018-01-29 00:00:00</td>\n",
       "      <td>0.0</td>\n",
       "    </tr>\n",
       "    <tr>\n",
       "      <th>451</th>\n",
       "      <td>2018-02-13 00:00:00</td>\n",
       "      <td>2017-12-15 00:00:00</td>\n",
       "      <td>0.0</td>\n",
       "    </tr>\n",
       "  </tbody>\n",
       "</table>\n",
       "</div>"
      ],
      "text/plain": [
       "       BreachAnnounceDate  BreachDiscoveryDate  CEODuality\n",
       "966   2018-09-28 00:00:00  2018-09-28 00:00:00         1.0\n",
       "1346  2018-06-15 00:00:00  2018-06-15 00:00:00         0.0\n",
       "131   2018-08-28 00:00:00  2018-08-02 00:00:00         1.0\n",
       "2296  2018-02-21 00:00:00  2018-01-29 00:00:00         0.0\n",
       "451   2018-02-13 00:00:00  2017-12-15 00:00:00         0.0"
      ]
     },
     "execution_count": 100,
     "metadata": {},
     "output_type": "execute_result"
    }
   ],
   "source": [
    "CEODiffTime = df_t0[['BreachAnnounceDate','BreachDiscoveryDate','CEODuality']].dropna()\n",
    "CEODiffTime.head()"
   ]
  },
  {
   "cell_type": "code",
   "execution_count": 122,
   "metadata": {},
   "outputs": [],
   "source": [
    "import datetime\n",
    "CEODiffTime = CEODiffTime[CEODiffTime['BreachAnnounceDate'].apply(lambda x: type(x) == datetime.datetime)]\n",
    "CEODiffTime = CEODiffTime[CEODiffTime['BreachDiscoveryDate'].apply(lambda x: type(x) == datetime.datetime)]"
   ]
  },
  {
   "cell_type": "code",
   "execution_count": 123,
   "metadata": {},
   "outputs": [
    {
     "data": {
      "text/plain": [
       "(395, 3)"
      ]
     },
     "execution_count": 123,
     "metadata": {},
     "output_type": "execute_result"
    }
   ],
   "source": [
    "CEODiffTime.shape"
   ]
  },
  {
   "cell_type": "code",
   "execution_count": 124,
   "metadata": {},
   "outputs": [],
   "source": [
    "CEODiffTime['Diff'] = CEODiffTime['BreachAnnounceDate'] - CEODiffTime['BreachDiscoveryDate']"
   ]
  },
  {
   "cell_type": "code",
   "execution_count": 127,
   "metadata": {},
   "outputs": [],
   "source": [
    "CEODiffTime['Diff_'] = pd.Series(delta.days for delta in (CEODiffTime['BreachAnnounceDate'] - CEODiffTime['BreachDiscoveryDate']))\n"
   ]
  },
  {
   "cell_type": "code",
   "execution_count": 128,
   "metadata": {},
   "outputs": [
    {
     "data": {
      "text/html": [
       "<div>\n",
       "<style scoped>\n",
       "    .dataframe tbody tr th:only-of-type {\n",
       "        vertical-align: middle;\n",
       "    }\n",
       "\n",
       "    .dataframe tbody tr th {\n",
       "        vertical-align: top;\n",
       "    }\n",
       "\n",
       "    .dataframe thead th {\n",
       "        text-align: right;\n",
       "    }\n",
       "</style>\n",
       "<table border=\"1\" class=\"dataframe\">\n",
       "  <thead>\n",
       "    <tr style=\"text-align: right;\">\n",
       "      <th></th>\n",
       "      <th>BreachAnnounceDate</th>\n",
       "      <th>BreachDiscoveryDate</th>\n",
       "      <th>CEODuality</th>\n",
       "      <th>Diff</th>\n",
       "      <th>Diff_</th>\n",
       "    </tr>\n",
       "  </thead>\n",
       "  <tbody>\n",
       "    <tr>\n",
       "      <th>966</th>\n",
       "      <td>2018-09-28 00:00:00</td>\n",
       "      <td>2018-09-28 00:00:00</td>\n",
       "      <td>1.0</td>\n",
       "      <td>0 days</td>\n",
       "      <td>NaN</td>\n",
       "    </tr>\n",
       "    <tr>\n",
       "      <th>1346</th>\n",
       "      <td>2018-06-15 00:00:00</td>\n",
       "      <td>2018-06-15 00:00:00</td>\n",
       "      <td>0.0</td>\n",
       "      <td>0 days</td>\n",
       "      <td>NaN</td>\n",
       "    </tr>\n",
       "    <tr>\n",
       "      <th>131</th>\n",
       "      <td>2018-08-28 00:00:00</td>\n",
       "      <td>2018-08-02 00:00:00</td>\n",
       "      <td>1.0</td>\n",
       "      <td>26 days</td>\n",
       "      <td>0.0</td>\n",
       "    </tr>\n",
       "    <tr>\n",
       "      <th>2296</th>\n",
       "      <td>2018-02-21 00:00:00</td>\n",
       "      <td>2018-01-29 00:00:00</td>\n",
       "      <td>0.0</td>\n",
       "      <td>23 days</td>\n",
       "      <td>NaN</td>\n",
       "    </tr>\n",
       "    <tr>\n",
       "      <th>451</th>\n",
       "      <td>2018-02-13 00:00:00</td>\n",
       "      <td>2017-12-15 00:00:00</td>\n",
       "      <td>0.0</td>\n",
       "      <td>60 days</td>\n",
       "      <td>NaN</td>\n",
       "    </tr>\n",
       "  </tbody>\n",
       "</table>\n",
       "</div>"
      ],
      "text/plain": [
       "       BreachAnnounceDate  BreachDiscoveryDate  CEODuality    Diff  Diff_\n",
       "966   2018-09-28 00:00:00  2018-09-28 00:00:00         1.0  0 days    NaN\n",
       "1346  2018-06-15 00:00:00  2018-06-15 00:00:00         0.0  0 days    NaN\n",
       "131   2018-08-28 00:00:00  2018-08-02 00:00:00         1.0 26 days    0.0\n",
       "2296  2018-02-21 00:00:00  2018-01-29 00:00:00         0.0 23 days    NaN\n",
       "451   2018-02-13 00:00:00  2017-12-15 00:00:00         0.0 60 days    NaN"
      ]
     },
     "execution_count": 128,
     "metadata": {},
     "output_type": "execute_result"
    }
   ],
   "source": [
    "CEODiffTime.head()"
   ]
  },
  {
   "cell_type": "code",
   "execution_count": 129,
   "metadata": {},
   "outputs": [
    {
     "data": {
      "text/plain": [
       "1.0    265\n",
       "0.0    130\n",
       "Name: CEODuality, dtype: int64"
      ]
     },
     "execution_count": 129,
     "metadata": {},
     "output_type": "execute_result"
    }
   ],
   "source": [
    "CEODiffTime.CEODuality.value_counts()"
   ]
  },
  {
   "cell_type": "code",
   "execution_count": 132,
   "metadata": {},
   "outputs": [
    {
     "data": {
      "text/plain": [
       "Timedelta('202 days 02:37:35.094339')"
      ]
     },
     "execution_count": 132,
     "metadata": {},
     "output_type": "execute_result"
    }
   ],
   "source": [
    "CEODiffTime[CEODiffTime['CEODuality']==1]['Diff'].mean()"
   ]
  },
  {
   "cell_type": "code",
   "execution_count": 133,
   "metadata": {},
   "outputs": [
    {
     "data": {
      "text/plain": [
       "Timedelta('328 days 23:37:50.769230')"
      ]
     },
     "execution_count": 133,
     "metadata": {},
     "output_type": "execute_result"
    }
   ],
   "source": [
    "CEODiffTime[CEODiffTime['CEODuality']==0]['Diff'].mean()"
   ]
  },
  {
   "cell_type": "code",
   "execution_count": 135,
   "metadata": {},
   "outputs": [
    {
     "data": {
      "text/plain": [
       "array([1., 0.])"
      ]
     },
     "execution_count": 135,
     "metadata": {},
     "output_type": "execute_result"
    }
   ],
   "source": [
    "CEODiffTime.CEODuality.unique()"
   ]
  },
  {
   "cell_type": "code",
   "execution_count": 199,
   "metadata": {},
   "outputs": [
    {
     "data": {
      "image/png": "[encoded data removed]",
      "text/plain": [
       "<Figure size 864x36 with 1 Axes>"
      ]
     },
     "metadata": {},
     "output_type": "display_data"
    }
   ],
   "source": [
    "plt.figure(figsize=(12,0.5))\n",
    "\n",
    "# Make dataset\n",
    "height = [202,328]\n",
    "bars = ('1', '0')\n",
    "y_pos = np.arange(len(bars))\n",
    "\n",
    "width = [0.7,.7]\n",
    "\n",
    "# Create horizontal bars\n",
    "plt.barh(y_pos, height, width)\n",
    " \n",
    "# Create names on the y-axis\n",
    "plt.yticks(y_pos, bars)\n",
    "\n",
    "plt.xlabel(\"Average Announce Time Difference: days\")\n",
    "plt.ylabel(\"CEODuality\")\n",
    "# Show graphic\n",
    "plt.show()\n"
   ]
  },
  {
   "cell_type": "code",
   "execution_count": 18,
   "metadata": {},
   "outputs": [
    {
     "data": {
      "text/html": [
       "<div>\n",
       "<style scoped>\n",
       "    .dataframe tbody tr th:only-of-type {\n",
       "        vertical-align: middle;\n",
       "    }\n",
       "\n",
       "    .dataframe tbody tr th {\n",
       "        vertical-align: top;\n",
       "    }\n",
       "\n",
       "    .dataframe thead th {\n",
       "        text-align: right;\n",
       "    }\n",
       "</style>\n",
       "<table border=\"1\" class=\"dataframe\">\n",
       "  <thead>\n",
       "    <tr style=\"text-align: right;\">\n",
       "      <th></th>\n",
       "      <th>ConsumerData</th>\n",
       "      <th>BusinessCustomerData</th>\n",
       "      <th>EmployeeData</th>\n",
       "      <th>PartnerData</th>\n",
       "      <th>FirmIP</th>\n",
       "    </tr>\n",
       "  </thead>\n",
       "  <tbody>\n",
       "    <tr>\n",
       "      <th>1</th>\n",
       "      <td>1.0</td>\n",
       "      <td>0.0</td>\n",
       "      <td>0.0</td>\n",
       "      <td>0.0</td>\n",
       "      <td>0.0</td>\n",
       "    </tr>\n",
       "    <tr>\n",
       "      <th>6</th>\n",
       "      <td>1.0</td>\n",
       "      <td>0.0</td>\n",
       "      <td>0.0</td>\n",
       "      <td>0.0</td>\n",
       "      <td>0.0</td>\n",
       "    </tr>\n",
       "    <tr>\n",
       "      <th>11</th>\n",
       "      <td>1.0</td>\n",
       "      <td>0.0</td>\n",
       "      <td>0.0</td>\n",
       "      <td>0.0</td>\n",
       "      <td>0.0</td>\n",
       "    </tr>\n",
       "    <tr>\n",
       "      <th>16</th>\n",
       "      <td>0.0</td>\n",
       "      <td>1.0</td>\n",
       "      <td>0.0</td>\n",
       "      <td>0.0</td>\n",
       "      <td>0.0</td>\n",
       "    </tr>\n",
       "    <tr>\n",
       "      <th>21</th>\n",
       "      <td>0.0</td>\n",
       "      <td>0.0</td>\n",
       "      <td>0.0</td>\n",
       "      <td>0.0</td>\n",
       "      <td>0.0</td>\n",
       "    </tr>\n",
       "  </tbody>\n",
       "</table>\n",
       "</div>"
      ],
      "text/plain": [
       "    ConsumerData  BusinessCustomerData  EmployeeData  PartnerData  FirmIP\n",
       "1            1.0                   0.0           0.0          0.0     0.0\n",
       "6            1.0                   0.0           0.0          0.0     0.0\n",
       "11           1.0                   0.0           0.0          0.0     0.0\n",
       "16           0.0                   1.0           0.0          0.0     0.0\n",
       "21           0.0                   0.0           0.0          0.0     0.0"
      ]
     },
     "execution_count": 18,
     "metadata": {},
     "output_type": "execute_result"
    }
   ],
   "source": [
    "whoseData = df_t0[['ConsumerData','BusinessCustomerData','EmployeeData','PartnerData','FirmIP']]\n",
    "whoseData.head()"
   ]
  },
  {
   "cell_type": "code",
   "execution_count": 20,
   "metadata": {},
   "outputs": [
    {
     "data": {
      "text/plain": [
       "pandas.core.series.Series"
      ]
     },
     "execution_count": 20,
     "metadata": {},
     "output_type": "execute_result"
    }
   ],
   "source": [
    "type(whoseData.sum(axis = 0, skipna = True))"
   ]
  },
  {
   "cell_type": "code",
   "execution_count": null,
   "metadata": {},
   "outputs": [],
   "source": []
  },
  {
   "cell_type": "code",
   "execution_count": null,
   "metadata": {},
   "outputs": [],
   "source": []
  },
  {
   "cell_type": "markdown",
   "metadata": {},
   "source": [
    "# Firm Size vs Breach Type"
   ]
  },
  {
   "cell_type": "code",
   "execution_count": 398,
   "metadata": {},
   "outputs": [
    {
     "name": "stdout",
     "output_type": "stream",
     "text": [
      "Small companies:  54\n",
      "Medium companies:  169\n",
      "Large companies:  248\n"
     ]
    }
   ],
   "source": [
    "# Reminder: do not use 1001 and 10001 as boundary as the size is float instead of integer\n",
    "print('Small companies: ',sum((df_t0['Firm.Size']<=1000)))\n",
    "print('Medium companies: ',sum(((1000<df_t0['Firm.Size']) & (df_t0['Firm.Size']<=10000))))\n",
    "print('Large companies: ',sum((10000<df_t0['Firm.Size'])))"
   ]
  },
  {
   "cell_type": "code",
   "execution_count": 399,
   "metadata": {},
   "outputs": [
    {
     "name": "stdout",
     "output_type": "stream",
     "text": [
      "Small companies:  223\n",
      "Large companies:  248\n"
     ]
    }
   ],
   "source": [
    "print('Small companies: ',sum((df_t0['Firm.Size']<=10000)))\n",
    "print('Large companies: ',sum((10000<df_t0['Firm.Size'])))\n",
    "# 加起来不是486，bc还有 firm size是nan"
   ]
  },
  {
   "cell_type": "code",
   "execution_count": 400,
   "metadata": {},
   "outputs": [
    {
     "data": {
      "text/plain": [
       "15"
      ]
     },
     "execution_count": 400,
     "metadata": {},
     "output_type": "execute_result"
    }
   ],
   "source": [
    "sum(df_t0['Firm.Size'].isnull())"
   ]
  },
  {
   "cell_type": "code",
   "execution_count": 415,
   "metadata": {},
   "outputs": [],
   "source": [
    "sub_t0 = df_t0[['Firm.Size','Breach.Type']].dropna()"
   ]
  },
  {
   "cell_type": "code",
   "execution_count": 416,
   "metadata": {},
   "outputs": [
    {
     "data": {
      "text/plain": [
       "(466, 2)"
      ]
     },
     "execution_count": 416,
     "metadata": {},
     "output_type": "execute_result"
    }
   ],
   "source": [
    "sub_t0.shape"
   ]
  },
  {
   "cell_type": "code",
   "execution_count": 417,
   "metadata": {},
   "outputs": [],
   "source": [
    "# drop breach type = unkown\n",
    "sub_t0 = sub_t0[sub_t0['Breach.Type']!='UNKN']"
   ]
  },
  {
   "cell_type": "code",
   "execution_count": null,
   "metadata": {},
   "outputs": [],
   "source": [
    "sub_t0.head()"
   ]
  },
  {
   "cell_type": "code",
   "execution_count": 419,
   "metadata": {},
   "outputs": [],
   "source": [
    "sub_t0['Firm.Size'].replace(sub_t0[sub_t0['Firm.Size']>10000]['Firm.Size'],'Large Firm',inplace=True)"
   ]
  },
  {
   "cell_type": "code",
   "execution_count": 420,
   "metadata": {},
   "outputs": [
    {
     "data": {
      "text/html": [
       "<div>\n",
       "<style scoped>\n",
       "    .dataframe tbody tr th:only-of-type {\n",
       "        vertical-align: middle;\n",
       "    }\n",
       "\n",
       "    .dataframe tbody tr th {\n",
       "        vertical-align: top;\n",
       "    }\n",
       "\n",
       "    .dataframe thead th {\n",
       "        text-align: right;\n",
       "    }\n",
       "</style>\n",
       "<table border=\"1\" class=\"dataframe\">\n",
       "  <thead>\n",
       "    <tr style=\"text-align: right;\">\n",
       "      <th></th>\n",
       "      <th>Firm.Size</th>\n",
       "      <th>Breach.Type</th>\n",
       "    </tr>\n",
       "  </thead>\n",
       "  <tbody>\n",
       "    <tr>\n",
       "      <th>1</th>\n",
       "      <td>506.514</td>\n",
       "      <td>HACK</td>\n",
       "    </tr>\n",
       "    <tr>\n",
       "      <th>11</th>\n",
       "      <td>1827.18</td>\n",
       "      <td>DISC</td>\n",
       "    </tr>\n",
       "    <tr>\n",
       "      <th>16</th>\n",
       "      <td>Large Firm</td>\n",
       "      <td>PORT</td>\n",
       "    </tr>\n",
       "    <tr>\n",
       "      <th>21</th>\n",
       "      <td>Large Firm</td>\n",
       "      <td>HACK</td>\n",
       "    </tr>\n",
       "    <tr>\n",
       "      <th>26</th>\n",
       "      <td>1879.6</td>\n",
       "      <td>PHYS</td>\n",
       "    </tr>\n",
       "  </tbody>\n",
       "</table>\n",
       "</div>"
      ],
      "text/plain": [
       "     Firm.Size Breach.Type\n",
       "1      506.514        HACK\n",
       "11     1827.18        DISC\n",
       "16  Large Firm        PORT\n",
       "21  Large Firm        HACK\n",
       "26      1879.6        PHYS"
      ]
     },
     "execution_count": 420,
     "metadata": {},
     "output_type": "execute_result"
    }
   ],
   "source": [
    "sub_t0.head()"
   ]
  },
  {
   "cell_type": "code",
   "execution_count": 430,
   "metadata": {},
   "outputs": [
    {
     "data": {
      "text/plain": [
       "1        True\n",
       "11       True\n",
       "16      False\n",
       "21      False\n",
       "26       True\n",
       "31       True\n",
       "36       True\n",
       "41      False\n",
       "46      False\n",
       "51       True\n",
       "56       True\n",
       "61       True\n",
       "66       True\n",
       "71       True\n",
       "76       True\n",
       "81      False\n",
       "86      False\n",
       "91      False\n",
       "96      False\n",
       "101     False\n",
       "106      True\n",
       "111      True\n",
       "116     False\n",
       "121     False\n",
       "126     False\n",
       "136      True\n",
       "141      True\n",
       "146     False\n",
       "151      True\n",
       "156     False\n",
       "        ...  \n",
       "2256    False\n",
       "2261     True\n",
       "2266    False\n",
       "2271    False\n",
       "2281    False\n",
       "2286    False\n",
       "2291    False\n",
       "2301    False\n",
       "2306     True\n",
       "2311     True\n",
       "2316     True\n",
       "2321    False\n",
       "2326    False\n",
       "2331    False\n",
       "2336    False\n",
       "2341    False\n",
       "2346     True\n",
       "2351     True\n",
       "2356     True\n",
       "2361     True\n",
       "2366     True\n",
       "2371     True\n",
       "2376    False\n",
       "2381     True\n",
       "2386     True\n",
       "2391     True\n",
       "2396     True\n",
       "2401    False\n",
       "2406     True\n",
       "2411     True\n",
       "Name: Firm.Size, Length: 449, dtype: bool"
      ]
     },
     "execution_count": 430,
     "metadata": {},
     "output_type": "execute_result"
    }
   ],
   "source": [
    "sub_t0['Firm.Size'].str.isnumeric().isnull()"
   ]
  },
  {
   "cell_type": "code",
   "execution_count": 436,
   "metadata": {},
   "outputs": [],
   "source": [
    "sub_t0['Firm.Size'] = sub_t0['Firm.Size'].replace(xx['Firm.Size'],'Small & Medium Firm')"
   ]
  },
  {
   "cell_type": "code",
   "execution_count": 437,
   "metadata": {},
   "outputs": [
    {
     "data": {
      "text/html": [
       "<div>\n",
       "<style scoped>\n",
       "    .dataframe tbody tr th:only-of-type {\n",
       "        vertical-align: middle;\n",
       "    }\n",
       "\n",
       "    .dataframe tbody tr th {\n",
       "        vertical-align: top;\n",
       "    }\n",
       "\n",
       "    .dataframe thead th {\n",
       "        text-align: right;\n",
       "    }\n",
       "</style>\n",
       "<table border=\"1\" class=\"dataframe\">\n",
       "  <thead>\n",
       "    <tr style=\"text-align: right;\">\n",
       "      <th></th>\n",
       "      <th>Firm.Size</th>\n",
       "      <th>Breach.Type</th>\n",
       "    </tr>\n",
       "  </thead>\n",
       "  <tbody>\n",
       "    <tr>\n",
       "      <th>1</th>\n",
       "      <td>Small &amp; Medium Firm</td>\n",
       "      <td>HACK</td>\n",
       "    </tr>\n",
       "    <tr>\n",
       "      <th>11</th>\n",
       "      <td>Small &amp; Medium Firm</td>\n",
       "      <td>DISC</td>\n",
       "    </tr>\n",
       "    <tr>\n",
       "      <th>16</th>\n",
       "      <td>Large Firm</td>\n",
       "      <td>PORT</td>\n",
       "    </tr>\n",
       "    <tr>\n",
       "      <th>21</th>\n",
       "      <td>Large Firm</td>\n",
       "      <td>HACK</td>\n",
       "    </tr>\n",
       "    <tr>\n",
       "      <th>26</th>\n",
       "      <td>Small &amp; Medium Firm</td>\n",
       "      <td>PHYS</td>\n",
       "    </tr>\n",
       "    <tr>\n",
       "      <th>31</th>\n",
       "      <td>Small &amp; Medium Firm</td>\n",
       "      <td>HACK</td>\n",
       "    </tr>\n",
       "    <tr>\n",
       "      <th>36</th>\n",
       "      <td>Small &amp; Medium Firm</td>\n",
       "      <td>HACK</td>\n",
       "    </tr>\n",
       "    <tr>\n",
       "      <th>41</th>\n",
       "      <td>Large Firm</td>\n",
       "      <td>HACK</td>\n",
       "    </tr>\n",
       "    <tr>\n",
       "      <th>46</th>\n",
       "      <td>Large Firm</td>\n",
       "      <td>DISC</td>\n",
       "    </tr>\n",
       "    <tr>\n",
       "      <th>51</th>\n",
       "      <td>Small &amp; Medium Firm</td>\n",
       "      <td>HACK</td>\n",
       "    </tr>\n",
       "  </tbody>\n",
       "</table>\n",
       "</div>"
      ],
      "text/plain": [
       "              Firm.Size Breach.Type\n",
       "1   Small & Medium Firm        HACK\n",
       "11  Small & Medium Firm        DISC\n",
       "16           Large Firm        PORT\n",
       "21           Large Firm        HACK\n",
       "26  Small & Medium Firm        PHYS\n",
       "31  Small & Medium Firm        HACK\n",
       "36  Small & Medium Firm        HACK\n",
       "41           Large Firm        HACK\n",
       "46           Large Firm        DISC\n",
       "51  Small & Medium Firm        HACK"
      ]
     },
     "execution_count": 437,
     "metadata": {},
     "output_type": "execute_result"
    }
   ],
   "source": [
    "sub_t0.head(10)"
   ]
  },
  {
   "cell_type": "code",
   "execution_count": 438,
   "metadata": {},
   "outputs": [],
   "source": [
    "sub_t0['Number'] = 1"
   ]
  },
  {
   "cell_type": "code",
   "execution_count": 476,
   "metadata": {},
   "outputs": [
    {
     "data": {
      "text/html": [
       "<div>\n",
       "<style scoped>\n",
       "    .dataframe tbody tr th:only-of-type {\n",
       "        vertical-align: middle;\n",
       "    }\n",
       "\n",
       "    .dataframe tbody tr th {\n",
       "        vertical-align: top;\n",
       "    }\n",
       "\n",
       "    .dataframe thead th {\n",
       "        text-align: right;\n",
       "    }\n",
       "</style>\n",
       "<table border=\"1\" class=\"dataframe\">\n",
       "  <thead>\n",
       "    <tr style=\"text-align: right;\">\n",
       "      <th></th>\n",
       "      <th>Firm.Size</th>\n",
       "      <th>Breach.Type</th>\n",
       "      <th>Number</th>\n",
       "    </tr>\n",
       "  </thead>\n",
       "  <tbody>\n",
       "    <tr>\n",
       "      <th>1</th>\n",
       "      <td>Small &amp; Medium Firm</td>\n",
       "      <td>HACK</td>\n",
       "      <td>1</td>\n",
       "    </tr>\n",
       "    <tr>\n",
       "      <th>11</th>\n",
       "      <td>Small &amp; Medium Firm</td>\n",
       "      <td>DISC</td>\n",
       "      <td>1</td>\n",
       "    </tr>\n",
       "    <tr>\n",
       "      <th>16</th>\n",
       "      <td>Large Firm</td>\n",
       "      <td>PORT</td>\n",
       "      <td>1</td>\n",
       "    </tr>\n",
       "    <tr>\n",
       "      <th>21</th>\n",
       "      <td>Large Firm</td>\n",
       "      <td>HACK</td>\n",
       "      <td>1</td>\n",
       "    </tr>\n",
       "    <tr>\n",
       "      <th>26</th>\n",
       "      <td>Small &amp; Medium Firm</td>\n",
       "      <td>PHYS</td>\n",
       "      <td>1</td>\n",
       "    </tr>\n",
       "  </tbody>\n",
       "</table>\n",
       "</div>"
      ],
      "text/plain": [
       "              Firm.Size Breach.Type  Number\n",
       "1   Small & Medium Firm        HACK       1\n",
       "11  Small & Medium Firm        DISC       1\n",
       "16           Large Firm        PORT       1\n",
       "21           Large Firm        HACK       1\n",
       "26  Small & Medium Firm        PHYS       1"
      ]
     },
     "execution_count": 476,
     "metadata": {},
     "output_type": "execute_result"
    }
   ],
   "source": [
    "sub_t0.head()"
   ]
  },
  {
   "cell_type": "code",
   "execution_count": 471,
   "metadata": {},
   "outputs": [
    {
     "data": {
      "text/plain": [
       "(449, 3)"
      ]
     },
     "execution_count": 471,
     "metadata": {},
     "output_type": "execute_result"
    }
   ],
   "source": [
    "sub_t0.shape"
   ]
  },
  {
   "cell_type": "code",
   "execution_count": 480,
   "metadata": {},
   "outputs": [
    {
     "data": {
      "text/plain": [
       "['HACK', 'DISC', 'PORT', 'PHYS', 'INSD', 'STAT', 'CARD']"
      ]
     },
     "execution_count": 480,
     "metadata": {},
     "output_type": "execute_result"
    }
   ],
   "source": [
    "BreachType.unique().tolist()"
   ]
  },
  {
   "cell_type": "code",
   "execution_count": 489,
   "metadata": {},
   "outputs": [
    {
     "data": {
      "text/html": [
       "<div>\n",
       "<style scoped>\n",
       "    .dataframe tbody tr th:only-of-type {\n",
       "        vertical-align: middle;\n",
       "    }\n",
       "\n",
       "    .dataframe tbody tr th {\n",
       "        vertical-align: top;\n",
       "    }\n",
       "\n",
       "    .dataframe thead tr th {\n",
       "        text-align: left;\n",
       "    }\n",
       "\n",
       "    .dataframe thead tr:last-of-type th {\n",
       "        text-align: right;\n",
       "    }\n",
       "</style>\n",
       "<table border=\"1\" class=\"dataframe\">\n",
       "  <thead>\n",
       "    <tr>\n",
       "      <th></th>\n",
       "      <th colspan=\"2\" halign=\"left\">Number</th>\n",
       "    </tr>\n",
       "    <tr>\n",
       "      <th></th>\n",
       "      <th colspan=\"2\" halign=\"left\">sum</th>\n",
       "    </tr>\n",
       "    <tr>\n",
       "      <th>Firm.Size</th>\n",
       "      <th>Large Firm</th>\n",
       "      <th>Small &amp; Medium Firm</th>\n",
       "    </tr>\n",
       "    <tr>\n",
       "      <th>Breach.Type</th>\n",
       "      <th></th>\n",
       "      <th></th>\n",
       "    </tr>\n",
       "  </thead>\n",
       "  <tbody>\n",
       "    <tr>\n",
       "      <th>CARD</th>\n",
       "      <td>8</td>\n",
       "      <td>5</td>\n",
       "    </tr>\n",
       "    <tr>\n",
       "      <th>DISC</th>\n",
       "      <td>47</td>\n",
       "      <td>34</td>\n",
       "    </tr>\n",
       "    <tr>\n",
       "      <th>HACK</th>\n",
       "      <td>60</td>\n",
       "      <td>76</td>\n",
       "    </tr>\n",
       "    <tr>\n",
       "      <th>INSD</th>\n",
       "      <td>37</td>\n",
       "      <td>21</td>\n",
       "    </tr>\n",
       "    <tr>\n",
       "      <th>PHYS</th>\n",
       "      <td>18</td>\n",
       "      <td>12</td>\n",
       "    </tr>\n",
       "    <tr>\n",
       "      <th>PORT</th>\n",
       "      <td>58</td>\n",
       "      <td>58</td>\n",
       "    </tr>\n",
       "    <tr>\n",
       "      <th>STAT</th>\n",
       "      <td>7</td>\n",
       "      <td>8</td>\n",
       "    </tr>\n",
       "  </tbody>\n",
       "</table>\n",
       "</div>"
      ],
      "text/plain": [
       "                Number                    \n",
       "                   sum                    \n",
       "Firm.Size   Large Firm Small & Medium Firm\n",
       "Breach.Type                               \n",
       "CARD                 8                   5\n",
       "DISC                47                  34\n",
       "HACK                60                  76\n",
       "INSD                37                  21\n",
       "PHYS                18                  12\n",
       "PORT                58                  58\n",
       "STAT                 7                   8"
      ]
     },
     "execution_count": 489,
     "metadata": {},
     "output_type": "execute_result"
    }
   ],
   "source": [
    "pt = pd.pivot_table(sub_t0,index=sub_t0['Breach.Type'],columns=sub_t0['Firm.Size'],values=[\"Number\"],\n",
    "               aggfunc={np.sum},fill_value=0)\n",
    "pt"
   ]
  },
  {
   "cell_type": "code",
   "execution_count": 490,
   "metadata": {},
   "outputs": [
    {
     "name": "stdout",
     "output_type": "stream",
     "text": [
      "MultiIndex(levels=[['Number'], ['sum'], ['Large Firm', 'Small & Medium Firm']],\n",
      "           labels=[[0, 0], [0, 0], [0, 1]],\n",
      "           names=[None, None, 'Firm.Size'])\n",
      "New Columns: Index(['Large Firm', 'Small & Medium Firm'], dtype='object')\n"
     ]
    }
   ],
   "source": [
    "print(pt.columns)\n",
    "pt.columns = ['Large Firm','Small & Medium Firm']\n",
    "print('New Columns:', pt.columns)"
   ]
  },
  {
   "cell_type": "code",
   "execution_count": 457,
   "metadata": {},
   "outputs": [
    {
     "data": {
      "image/png": "[encoded data removed]",
      "text/plain": [
       "<Figure size 432x288 with 2 Axes>"
      ]
     },
     "metadata": {},
     "output_type": "display_data"
    }
   ],
   "source": [
    "#Annotate each cell with the numeric value using integer formatting:\n",
    "#Use a different colormap:\n",
    "ax = sns.heatmap(pt, annot=True, fmt='d',linewidths=.3, cmap=\"YlGnBu\")"
   ]
  },
  {
   "cell_type": "code",
   "execution_count": 491,
   "metadata": {},
   "outputs": [
    {
     "data": {
      "text/plain": [
       "HACK    210\n",
       "PORT    156\n",
       "DISC    132\n",
       "INSD    105\n",
       "Name: Breach.Type, dtype: int64"
      ]
     },
     "execution_count": 491,
     "metadata": {},
     "output_type": "execute_result"
    }
   ],
   "source": [
    "top_typeCount = BreachType.value_counts().iloc[:4]\n",
    "top_typeCount"
   ]
  },
  {
   "cell_type": "markdown",
   "metadata": {},
   "source": [
    "Large firm should take care of Insider threat and unintentional disclosure. Small and medium companies should especially pay attention to Hack."
   ]
  },
  {
   "cell_type": "code",
   "execution_count": 4,
   "metadata": {},
   "outputs": [
    {
     "data": {
      "text/html": [
       "<div>\n",
       "<style scoped>\n",
       "    .dataframe tbody tr th:only-of-type {\n",
       "        vertical-align: middle;\n",
       "    }\n",
       "\n",
       "    .dataframe tbody tr th {\n",
       "        vertical-align: top;\n",
       "    }\n",
       "\n",
       "    .dataframe thead th {\n",
       "        text-align: right;\n",
       "    }\n",
       "</style>\n",
       "<table border=\"1\" class=\"dataframe\">\n",
       "  <thead>\n",
       "    <tr style=\"text-align: right;\">\n",
       "      <th></th>\n",
       "      <th>BreachID</th>\n",
       "      <th>Name.of.Primary.SIC.industry</th>\n",
       "    </tr>\n",
       "  </thead>\n",
       "  <tbody>\n",
       "    <tr>\n",
       "      <th>0</th>\n",
       "      <td>FLWS2016</td>\n",
       "      <td>FLORISTS</td>\n",
       "    </tr>\n",
       "    <tr>\n",
       "      <th>1</th>\n",
       "      <td>FLWS2016</td>\n",
       "      <td>FLORISTS</td>\n",
       "    </tr>\n",
       "    <tr>\n",
       "      <th>2</th>\n",
       "      <td>FLWS2016</td>\n",
       "      <td>FLORISTS</td>\n",
       "    </tr>\n",
       "    <tr>\n",
       "      <th>3</th>\n",
       "      <td>FLWS2016</td>\n",
       "      <td>FLORISTS</td>\n",
       "    </tr>\n",
       "    <tr>\n",
       "      <th>4</th>\n",
       "      <td>FLWS2016</td>\n",
       "      <td>FLORISTS</td>\n",
       "    </tr>\n",
       "  </tbody>\n",
       "</table>\n",
       "</div>"
      ],
      "text/plain": [
       "   BreachID Name.of.Primary.SIC.industry\n",
       "0  FLWS2016                     FLORISTS\n",
       "1  FLWS2016                     FLORISTS\n",
       "2  FLWS2016                     FLORISTS\n",
       "3  FLWS2016                     FLORISTS\n",
       "4  FLWS2016                     FLORISTS"
      ]
     },
     "execution_count": 4,
     "metadata": {},
     "output_type": "execute_result"
    }
   ],
   "source": [
    "industry = BreachedData[['BreachID','Name.of.Primary.SIC.industry']]\n",
    "industry.head()"
   ]
  },
  {
   "cell_type": "code",
   "execution_count": 5,
   "metadata": {},
   "outputs": [
    {
     "data": {
      "text/html": [
       "<div>\n",
       "<style scoped>\n",
       "    .dataframe tbody tr th:only-of-type {\n",
       "        vertical-align: middle;\n",
       "    }\n",
       "\n",
       "    .dataframe tbody tr th {\n",
       "        vertical-align: top;\n",
       "    }\n",
       "\n",
       "    .dataframe thead th {\n",
       "        text-align: right;\n",
       "    }\n",
       "</style>\n",
       "<table border=\"1\" class=\"dataframe\">\n",
       "  <thead>\n",
       "    <tr style=\"text-align: right;\">\n",
       "      <th></th>\n",
       "      <th>BreachID</th>\n",
       "      <th>Name.of.Primary.SIC.industry</th>\n",
       "    </tr>\n",
       "  </thead>\n",
       "  <tbody>\n",
       "    <tr>\n",
       "      <th>0</th>\n",
       "      <td>FLWS2016</td>\n",
       "      <td>FLORISTS</td>\n",
       "    </tr>\n",
       "    <tr>\n",
       "      <th>5</th>\n",
       "      <td>SRCE2010</td>\n",
       "      <td>COMMERCIAL AND STOCK SAVINGS BANKS</td>\n",
       "    </tr>\n",
       "    <tr>\n",
       "      <th>10</th>\n",
       "      <td>AAN2013</td>\n",
       "      <td>SERVICES-EQUIPMENT RENTAL &amp; LEASING, NEC</td>\n",
       "    </tr>\n",
       "    <tr>\n",
       "      <th>15</th>\n",
       "      <td>ABT2011</td>\n",
       "      <td>PHARMACEUTICAL PREPARATIONS</td>\n",
       "    </tr>\n",
       "    <tr>\n",
       "      <th>20</th>\n",
       "      <td>ABT2017</td>\n",
       "      <td>PHARMACEUTICAL PREPARATIONS</td>\n",
       "    </tr>\n",
       "  </tbody>\n",
       "</table>\n",
       "</div>"
      ],
      "text/plain": [
       "    BreachID              Name.of.Primary.SIC.industry\n",
       "0   FLWS2016                                  FLORISTS\n",
       "5   SRCE2010        COMMERCIAL AND STOCK SAVINGS BANKS\n",
       "10   AAN2013  SERVICES-EQUIPMENT RENTAL & LEASING, NEC\n",
       "15   ABT2011               PHARMACEUTICAL PREPARATIONS\n",
       "20   ABT2017               PHARMACEUTICAL PREPARATIONS"
      ]
     },
     "execution_count": 5,
     "metadata": {},
     "output_type": "execute_result"
    }
   ],
   "source": [
    "industry = industry.drop_duplicates(subset =\"BreachID\", keep = 'first') \n",
    "industry.head()"
   ]
  },
  {
   "cell_type": "code",
   "execution_count": 6,
   "metadata": {},
   "outputs": [
    {
     "data": {
      "text/plain": [
       "COMMERCIAL AND STOCK SAVINGS BANKS                 40\n",
       "HOSPITAL & MEDICAL SERVICE PLANS                   25\n",
       "SERVICES-PREPACKAGED SOFTWARE                      21\n",
       "RETAIL-DRUG STORES AND PROPRIETARY STORES          18\n",
       "RETAIL-EATING PLACES                               18\n",
       "PERSONAL CREDIT INSTITUTIONS                       16\n",
       "TELEPHONE COMMUNICATIONS (NO RADIOTELEPHONE)       15\n",
       "SECURITY BROKERS, DEALERS & FLOTATION COMPANIES    15\n",
       "LIFE INSURANCE                                     11\n",
       "SERVICES-COMPUTER PROCESSING & DATA PREPARATION     9\n",
       "Name: Name.of.Primary.SIC.industry, dtype: int64"
      ]
     },
     "execution_count": 6,
     "metadata": {},
     "output_type": "execute_result"
    }
   ],
   "source": [
    "top_industry = industry['Name.of.Primary.SIC.industry'].value_counts()[:10]\n",
    "top_industry"
   ]
  },
  {
   "cell_type": "code",
   "execution_count": 7,
   "metadata": {},
   "outputs": [],
   "source": [
    "col_industry = industry['Name.of.Primary.SIC.industry']"
   ]
  },
  {
   "cell_type": "code",
   "execution_count": 8,
   "metadata": {},
   "outputs": [],
   "source": [
    "col_industry = col_industry.replace('COMMERCIAL AND STOCK SAVINGS BANKS','BANKS')\n",
    "col_industry = col_industry.replace('HOSPITAL & MEDICAL SERVICE PLANS','HOSPITAL')\n",
    "col_industry = col_industry.replace('SERVICES-PREPACKAGED SOFTWARE','SOFTWARE')\n",
    "col_industry = col_industry.replace('RETAIL-EATING PLACES','EATING PLACES')\n",
    "col_industry = col_industry.replace('RETAIL-DRUG STORES AND PROPRIETARY STORES','DRUG STORES')\n",
    "col_industry = col_industry.replace('PERSONAL CREDIT INSTITUTIONS','CREDIT INSTITUTIONS')\n",
    "col_industry = col_industry.replace('SECURITY BROKERS, DEALERS & FLOTATION COMPANIES','SECURITY BROKERS')\n",
    "col_industry = col_industry.replace('TELEPHONE COMMUNICATIONS (NO RADIOTELEPHONE)','TELEPHONE COMMUNICATIONS')\n",
    "col_industry = col_industry.replace('PERSONAL CREDIT INSTITUTIONS','CREDIT INSTITUTIONS')\n",
    "col_industry = col_industry.replace('SERVICES-COMPUTER PROCESSING & DATA PREPARATION','COMPUTER SERVICES')"
   ]
  },
  {
   "cell_type": "code",
   "execution_count": 9,
   "metadata": {},
   "outputs": [
    {
     "data": {
      "text/plain": [
       "BANKS                       40\n",
       "HOSPITAL                    25\n",
       "SOFTWARE                    21\n",
       "DRUG STORES                 18\n",
       "EATING PLACES               18\n",
       "CREDIT INSTITUTIONS         16\n",
       "TELEPHONE COMMUNICATIONS    15\n",
       "SECURITY BROKERS            15\n",
       "LIFE INSURANCE              11\n",
       "COMPUTER SERVICES            9\n",
       "Name: Name.of.Primary.SIC.industry, dtype: int64"
      ]
     },
     "execution_count": 9,
     "metadata": {},
     "output_type": "execute_result"
    }
   ],
   "source": [
    "sub_top_industry = col_industry.value_counts()[:10]\n",
    "sub_top_industry"
   ]
  },
  {
   "cell_type": "code",
   "execution_count": 304,
   "metadata": {},
   "outputs": [
    {
     "data": {
      "text/plain": [
       "Index(['COMMERCIAL AND STOCK SAVINGS BANKS',\n",
       "       'HOSPITAL & MEDICAL SERVICE PLANS', 'SERVICES-PREPACKAGED SOFTWARE',\n",
       "       'RETAIL-EATING PLACES', 'RETAIL-DRUG STORES AND PROPRIETARY STORES',\n",
       "       'PERSONAL CREDIT INSTITUTIONS',\n",
       "       'SECURITY BROKERS, DEALERS & FLOTATION COMPANIES',\n",
       "       'TELEPHONE COMMUNICATIONS (NO RADIOTELEPHONE)', 'LIFE INSURANCE',\n",
       "       'SERVICES-COMPUTER PROCESSING & DATA PREPARATION'],\n",
       "      dtype='object')"
      ]
     },
     "execution_count": 304,
     "metadata": {},
     "output_type": "execute_result"
    }
   ],
   "source": [
    "top_industry.index"
   ]
  },
  {
   "cell_type": "code",
   "execution_count": 60,
   "metadata": {},
   "outputs": [
    {
     "data": {
      "image/png": "[encoded data removed]",
      "text/plain": [
       "<Figure size 864x576 with 1 Axes>"
      ]
     },
     "metadata": {},
     "output_type": "display_data"
    }
   ],
   "source": [
    "plt.figure(figsize=(12,8))\n",
    "sub_top_industry.plot.bar()\n",
    "# Create labels\n",
    "label = sub_top_industry \n",
    "# Text on the top of each barplot\n",
    "\n",
    "plt.xticks(fontsize=9, rotation=20)\n",
    "plt.xlabel(\"Frequent Industries\")\n",
    "plt.ylabel(\"Number of Breaches\")\n",
    "plt.show()"
   ]
  },
  {
   "cell_type": "code",
   "execution_count": 255,
   "metadata": {},
   "outputs": [
    {
     "data": {
      "text/plain": [
       "1457    108.820513\n",
       "797      36.765635\n",
       "494      27.407350\n",
       "2366     26.514793\n",
       "519      24.570388\n",
       "Name: Firm.Profitability, dtype: float64"
      ]
     },
     "execution_count": 255,
     "metadata": {},
     "output_type": "execute_result"
    }
   ],
   "source": [
    "BreachedData['Firm.Profitability'].sort_values(ascending=False)[:5]"
   ]
  },
  {
   "cell_type": "code",
   "execution_count": 256,
   "metadata": {},
   "outputs": [
    {
     "data": {
      "text/html": [
       "<div>\n",
       "<style scoped>\n",
       "    .dataframe tbody tr th:only-of-type {\n",
       "        vertical-align: middle;\n",
       "    }\n",
       "\n",
       "    .dataframe tbody tr th {\n",
       "        vertical-align: top;\n",
       "    }\n",
       "\n",
       "    .dataframe thead th {\n",
       "        text-align: right;\n",
       "    }\n",
       "</style>\n",
       "<table border=\"1\" class=\"dataframe\">\n",
       "  <thead>\n",
       "    <tr style=\"text-align: right;\">\n",
       "      <th></th>\n",
       "      <th>Student.Name</th>\n",
       "      <th>Student.EID</th>\n",
       "      <th>Student.Email.address</th>\n",
       "      <th>BreachNo.</th>\n",
       "      <th>TICKER</th>\n",
       "      <th>YEAR.of.BREACH.</th>\n",
       "      <th>BreachID</th>\n",
       "      <th>Firm.Name</th>\n",
       "      <th>Year.of.Data</th>\n",
       "      <th>t</th>\n",
       "      <th>...</th>\n",
       "      <th>Advertising.Intensity</th>\n",
       "      <th>Foreign.Operations</th>\n",
       "      <th>Corporate.Restructuring</th>\n",
       "      <th>SIC.Code</th>\n",
       "      <th>Name.of.Primary.SIC.industry</th>\n",
       "      <th>CountOfSegments</th>\n",
       "      <th>Breach.Type</th>\n",
       "      <th>Type.of.organization</th>\n",
       "      <th>Total.Records</th>\n",
       "      <th>BreachDescription</th>\n",
       "    </tr>\n",
       "  </thead>\n",
       "  <tbody>\n",
       "    <tr>\n",
       "      <th>1457</th>\n",
       "      <td>Morgan Brast</td>\n",
       "      <td>meb4588</td>\n",
       "      <td>morganbrast@utexas.edu</td>\n",
       "      <td>309</td>\n",
       "      <td>LMT</td>\n",
       "      <td>2011</td>\n",
       "      <td>LMT2011</td>\n",
       "      <td>LOCKHEED MARTIN CORP</td>\n",
       "      <td>2012</td>\n",
       "      <td>1</td>\n",
       "      <td>...</td>\n",
       "      <td>0.0</td>\n",
       "      <td>0.0</td>\n",
       "      <td>1.0</td>\n",
       "      <td>3761.0</td>\n",
       "      <td>GUIDED MISSILES AND SPACE VEHICLES</td>\n",
       "      <td>5.0</td>\n",
       "      <td>NaN</td>\n",
       "      <td>NaN</td>\n",
       "      <td>NaN</td>\n",
       "      <td>NaN</td>\n",
       "    </tr>\n",
       "  </tbody>\n",
       "</table>\n",
       "<p>1 rows × 108 columns</p>\n",
       "</div>"
      ],
      "text/plain": [
       "      Student.Name Student.EID   Student.Email.address  BreachNo. TICKER  \\\n",
       "1457  Morgan Brast     meb4588  morganbrast@utexas.edu        309    LMT   \n",
       "\n",
       "      YEAR.of.BREACH. BreachID             Firm.Name  Year.of.Data  t  \\\n",
       "1457             2011  LMT2011  LOCKHEED MARTIN CORP          2012  1   \n",
       "\n",
       "            ...         Advertising.Intensity  Foreign.Operations  \\\n",
       "1457        ...                           0.0                 0.0   \n",
       "\n",
       "      Corporate.Restructuring  SIC.Code        Name.of.Primary.SIC.industry  \\\n",
       "1457                      1.0    3761.0  GUIDED MISSILES AND SPACE VEHICLES   \n",
       "\n",
       "      CountOfSegments  Breach.Type  Type.of.organization Total.Records  \\\n",
       "1457              5.0          NaN                   NaN           NaN   \n",
       "\n",
       "      BreachDescription  \n",
       "1457                NaN  \n",
       "\n",
       "[1 rows x 108 columns]"
      ]
     },
     "execution_count": 256,
     "metadata": {},
     "output_type": "execute_result"
    }
   ],
   "source": [
    "# BreachedData[BreachedData['Firm.Profitability']==108.820512820513]\n",
    "BreachedData[BreachedData['Firm.Profitability']==BreachedData['Firm.Profitability'].max()]"
   ]
  },
  {
   "cell_type": "code",
   "execution_count": 163,
   "metadata": {},
   "outputs": [
    {
     "data": {
      "text/plain": [
       "COMMERCIAL AND STOCK SAVINGS BANKS                  200\n",
       "HOSPITAL & MEDICAL SERVICE PLANS                    124\n",
       "SERVICES-PREPACKAGED SOFTWARE                       105\n",
       "RETAIL-EATING PLACES                                 90\n",
       "RETAIL-DRUG STORES AND PROPRIETARY STORES            89\n",
       "PERSONAL CREDIT INSTITUTIONS                         80\n",
       "TELEPHONE COMMUNICATIONS (NO RADIOTELEPHONE)         75\n",
       "SECURITY BROKERS, DEALERS & FLOTATION COMPANIES      75\n",
       "LIFE INSURANCE                                       55\n",
       "SERVICES-COMPUTER PROCESSING & DATA PREPARATION      45\n",
       "SEMICONDUCTORS & RELATED DEVICES                     35\n",
       "RETAIL-CATALOG & MAIL-ORDER HOUSES                   35\n",
       "RETAIL-VARIETY STORES                                34\n",
       "RETAIL-DEPARTMENT STORES                             30\n",
       "PHARMACEUTICAL PREPARATIONS                          30\n",
       "INVESTMENT ADVICE                                    30\n",
       "SERVICES-MEDICAL LABORATORIES                        25\n",
       "RETAIL-FAMILY CLOTHING STORES                        25\n",
       "RETAIL-LUMBER & OTHER BUILDING MATERIALS DEALERS     25\n",
       "ACCIDENT & HEALTH INSURANCE                          25\n",
       "ELECTRONIC COMPUTERS                                 25\n",
       "INTERNET SOFTWARE & SERVICES                         25\n",
       "EQUIFAX NORTH AMERICA                                25\n",
       "SERVICES-VIDEO TAPE RENTAL                           25\n",
       "US TAX OPERATIONS                                    20\n",
       "HOTELS & MOTELS                                      20\n",
       "TITLE INSURANCE                                      20\n",
       "RETAIL-GROCERY STORES                                20\n",
       "AIR TRANSPORTATION, SCHEDULED                        20\n",
       "REAL ESTATE AGENTS & MANAGERS (FOR OTHERS)           20\n",
       "INSURANCE AGENTS, BROKERS & SERVICE                  20\n",
       "AIRCRAFT                                             20\n",
       "RADIOTELEPHONE COMMUNICATIONS                        20\n",
       "CABLE & OTHER PAY TELEVISION SERVICES                20\n",
       "SERVICES-COMPUTER INTEGRATED SYSTEMS DESIGN          20\n",
       "SOCIAL NETWORKING                                    19\n",
       "AOL                                                  15\n",
       "COMPUTER PERIPHERAL EQUIPMENT, NEC                   15\n",
       "FUNCTIONS RELATED TO DEPOSITORY BANKING, NEC         15\n",
       "MISC. HOME FURNISHINGS STORES                        15\n",
       "ELECTRIC SERVICES                                    15\n",
       "CRUDE PETROLEUM & NATURAL GAS                        15\n",
       "ROASTED COFFEE                                       15\n",
       "FIRE, MARINE & CASUALTY INSURANCE                    15\n",
       "MOTOR VEHICLES & PASSENGER CAR BODIES                15\n",
       "HEALTHCARE TECHNOLOGY                                13\n",
       "RETAIL-RADIO, TV & CONSUMER ELECTRONICS STORES       10\n",
       "SAVINGS INSTITUTIONS, NOT FEDERALLY CHARTERED        10\n",
       "BOAT BUILDING AND REPAIRING                          10\n",
       "SURGICAL & MEDICAL INSTRUMENTS & APPARATUS           10\n",
       "Name: Name.of.Primary.SIC.industry, dtype: int64"
      ]
     },
     "execution_count": 163,
     "metadata": {},
     "output_type": "execute_result"
    }
   ],
   "source": [
    "# How many entries are there for each month?\n",
    "BreachedData['Name.of.Primary.SIC.industry'].value_counts()[:50]"
   ]
  },
  {
   "cell_type": "code",
   "execution_count": 164,
   "metadata": {},
   "outputs": [
    {
     "data": {
      "text/plain": [
       "2419"
      ]
     },
     "execution_count": 164,
     "metadata": {},
     "output_type": "execute_result"
    }
   ],
   "source": [
    "sum(BreachedData['Name.of.Primary.SIC.industry'].value_counts())"
   ]
  },
  {
   "cell_type": "code",
   "execution_count": 32,
   "metadata": {},
   "outputs": [
    {
     "name": "stderr",
     "output_type": "stream",
     "text": [
      "/anaconda3/lib/python3.6/site-packages/ipykernel_launcher.py:1: SettingWithCopyWarning: \n",
      "A value is trying to be set on a copy of a slice from a DataFrame\n",
      "\n",
      "See the caveats in the documentation: http://pandas.pydata.org/pandas-docs/stable/indexing.html#indexing-view-versus-copy\n",
      "  \"\"\"Entry point for launching an IPython kernel.\n"
     ]
    }
   ],
   "source": [
    "df_t0.sort_values('YEAR.of.BREACH.', ascending=False,inplace=True)"
   ]
  },
  {
   "cell_type": "code",
   "execution_count": 34,
   "metadata": {},
   "outputs": [
    {
     "data": {
      "text/html": [
       "<div>\n",
       "<style scoped>\n",
       "    .dataframe tbody tr th:only-of-type {\n",
       "        vertical-align: middle;\n",
       "    }\n",
       "\n",
       "    .dataframe tbody tr th {\n",
       "        vertical-align: top;\n",
       "    }\n",
       "\n",
       "    .dataframe thead th {\n",
       "        text-align: right;\n",
       "    }\n",
       "</style>\n",
       "<table border=\"1\" class=\"dataframe\">\n",
       "  <thead>\n",
       "    <tr style=\"text-align: right;\">\n",
       "      <th></th>\n",
       "      <th>Student.Name</th>\n",
       "      <th>Student.EID</th>\n",
       "      <th>Student.Email.address</th>\n",
       "      <th>BreachNo.</th>\n",
       "      <th>TICKER</th>\n",
       "      <th>YEAR.of.BREACH.</th>\n",
       "      <th>BreachID</th>\n",
       "      <th>Firm.Name</th>\n",
       "      <th>Year.of.Data</th>\n",
       "      <th>t</th>\n",
       "      <th>...</th>\n",
       "      <th>Advertising.Intensity</th>\n",
       "      <th>Foreign.Operations</th>\n",
       "      <th>Corporate.Restructuring</th>\n",
       "      <th>SIC.Code</th>\n",
       "      <th>Name.of.Primary.SIC.industry</th>\n",
       "      <th>CountOfSegments</th>\n",
       "      <th>Breach.Type</th>\n",
       "      <th>Type.of.organization</th>\n",
       "      <th>Total.Records</th>\n",
       "      <th>BreachDescription</th>\n",
       "    </tr>\n",
       "  </thead>\n",
       "  <tbody>\n",
       "    <tr>\n",
       "      <th>2196</th>\n",
       "      <td>Armand Sanchez</td>\n",
       "      <td>AAS4294</td>\n",
       "      <td>mandchez@gmail.com</td>\n",
       "      <td>486</td>\n",
       "      <td>UNH</td>\n",
       "      <td>2018</td>\n",
       "      <td>UNH2018</td>\n",
       "      <td>UNITEDHEALTH GROUP INC</td>\n",
       "      <td>2018</td>\n",
       "      <td>0</td>\n",
       "      <td>...</td>\n",
       "      <td>NaN</td>\n",
       "      <td>NaN</td>\n",
       "      <td>NaN</td>\n",
       "      <td>6324.0</td>\n",
       "      <td>HOSPITAL &amp; MEDICAL SERVICE PLANS</td>\n",
       "      <td>NaN</td>\n",
       "      <td>PHYS</td>\n",
       "      <td>MED</td>\n",
       "      <td>2350.0</td>\n",
       "      <td>Location of breached information: Paper/Films\\...</td>\n",
       "    </tr>\n",
       "    <tr>\n",
       "      <th>966</th>\n",
       "      <td>Difu Wu</td>\n",
       "      <td>dw29999</td>\n",
       "      <td>wudifu2018@163.com</td>\n",
       "      <td>207</td>\n",
       "      <td>FB</td>\n",
       "      <td>2018</td>\n",
       "      <td>FB2018</td>\n",
       "      <td>FACEBOOK INC</td>\n",
       "      <td>2018</td>\n",
       "      <td>0</td>\n",
       "      <td>...</td>\n",
       "      <td>NaN</td>\n",
       "      <td>NaN</td>\n",
       "      <td>NaN</td>\n",
       "      <td>7375.0</td>\n",
       "      <td>SOCIAL NETWORKING</td>\n",
       "      <td>NaN</td>\n",
       "      <td>NaN</td>\n",
       "      <td>NaN</td>\n",
       "      <td>NaN</td>\n",
       "      <td>According to the New York Times, Facebook suff...</td>\n",
       "    </tr>\n",
       "    <tr>\n",
       "      <th>1346</th>\n",
       "      <td>Mason Arhelger</td>\n",
       "      <td>mba748</td>\n",
       "      <td>masonarhelger@gmail.com</td>\n",
       "      <td>285</td>\n",
       "      <td>INTU</td>\n",
       "      <td>2018</td>\n",
       "      <td>INTU2018</td>\n",
       "      <td>INTUIT INC</td>\n",
       "      <td>2018</td>\n",
       "      <td>0</td>\n",
       "      <td>...</td>\n",
       "      <td>NaN</td>\n",
       "      <td>NaN</td>\n",
       "      <td>NaN</td>\n",
       "      <td>7372.0</td>\n",
       "      <td>SERVICES-PREPACKAGED SOFTWARE</td>\n",
       "      <td>NaN</td>\n",
       "      <td>HACK</td>\n",
       "      <td>BSF</td>\n",
       "      <td>31.0</td>\n",
       "      <td>Intuit, Inc. suffered a data breach that affec...</td>\n",
       "    </tr>\n",
       "    <tr>\n",
       "      <th>131</th>\n",
       "      <td>Richa Bathija</td>\n",
       "      <td>rsb2632</td>\n",
       "      <td>richa.bathija@utexas.edu</td>\n",
       "      <td>27</td>\n",
       "      <td>AFL</td>\n",
       "      <td>2018</td>\n",
       "      <td>AFL2018</td>\n",
       "      <td>AFLAC INC</td>\n",
       "      <td>2018</td>\n",
       "      <td>0</td>\n",
       "      <td>...</td>\n",
       "      <td>NaN</td>\n",
       "      <td>NaN</td>\n",
       "      <td>NaN</td>\n",
       "      <td>6321.0</td>\n",
       "      <td>ACCIDENT &amp; HEALTH INSURANCE</td>\n",
       "      <td>NaN</td>\n",
       "      <td>DISC</td>\n",
       "      <td>MED</td>\n",
       "      <td>14910.0</td>\n",
       "      <td>Location of breached information: Email\\r\\r\\nB...</td>\n",
       "    </tr>\n",
       "    <tr>\n",
       "      <th>2296</th>\n",
       "      <td>Kenneth Tsai</td>\n",
       "      <td>kct627</td>\n",
       "      <td>kennethtsai98@gmail.com</td>\n",
       "      <td>508</td>\n",
       "      <td>WMT</td>\n",
       "      <td>2018</td>\n",
       "      <td>WMT2018</td>\n",
       "      <td>WALMART INC</td>\n",
       "      <td>2018</td>\n",
       "      <td>0</td>\n",
       "      <td>...</td>\n",
       "      <td>NaN</td>\n",
       "      <td>NaN</td>\n",
       "      <td>NaN</td>\n",
       "      <td>5331.0</td>\n",
       "      <td>RETAIL-VARIETY STORES</td>\n",
       "      <td>NaN</td>\n",
       "      <td>DISC</td>\n",
       "      <td>MED</td>\n",
       "      <td>3807.0</td>\n",
       "      <td>Location of breached information: Electronic M...</td>\n",
       "    </tr>\n",
       "  </tbody>\n",
       "</table>\n",
       "<p>5 rows × 108 columns</p>\n",
       "</div>"
      ],
      "text/plain": [
       "        Student.Name Student.EID     Student.Email.address  BreachNo. TICKER  \\\n",
       "2196  Armand Sanchez     AAS4294        mandchez@gmail.com        486    UNH   \n",
       "966          Difu Wu     dw29999        wudifu2018@163.com        207     FB   \n",
       "1346  Mason Arhelger      mba748   masonarhelger@gmail.com        285   INTU   \n",
       "131    Richa Bathija     rsb2632  richa.bathija@utexas.edu         27    AFL   \n",
       "2296    Kenneth Tsai      kct627   kennethtsai98@gmail.com        508    WMT   \n",
       "\n",
       "      YEAR.of.BREACH.  BreachID               Firm.Name  Year.of.Data  t  ...  \\\n",
       "2196             2018   UNH2018  UNITEDHEALTH GROUP INC          2018  0  ...   \n",
       "966              2018    FB2018            FACEBOOK INC          2018  0  ...   \n",
       "1346             2018  INTU2018              INTUIT INC          2018  0  ...   \n",
       "131              2018   AFL2018               AFLAC INC          2018  0  ...   \n",
       "2296             2018   WMT2018             WALMART INC          2018  0  ...   \n",
       "\n",
       "     Advertising.Intensity  Foreign.Operations  Corporate.Restructuring  \\\n",
       "2196                   NaN                 NaN                      NaN   \n",
       "966                    NaN                 NaN                      NaN   \n",
       "1346                   NaN                 NaN                      NaN   \n",
       "131                    NaN                 NaN                      NaN   \n",
       "2296                   NaN                 NaN                      NaN   \n",
       "\n",
       "      SIC.Code      Name.of.Primary.SIC.industry  CountOfSegments  \\\n",
       "2196    6324.0  HOSPITAL & MEDICAL SERVICE PLANS              NaN   \n",
       "966     7375.0                 SOCIAL NETWORKING              NaN   \n",
       "1346    7372.0     SERVICES-PREPACKAGED SOFTWARE              NaN   \n",
       "131     6321.0       ACCIDENT & HEALTH INSURANCE              NaN   \n",
       "2296    5331.0             RETAIL-VARIETY STORES              NaN   \n",
       "\n",
       "      Breach.Type  Type.of.organization Total.Records  \\\n",
       "2196         PHYS                   MED        2350.0   \n",
       "966           NaN                   NaN           NaN   \n",
       "1346         HACK                   BSF          31.0   \n",
       "131          DISC                   MED       14910.0   \n",
       "2296         DISC                   MED        3807.0   \n",
       "\n",
       "                                      BreachDescription  \n",
       "2196  Location of breached information: Paper/Films\\...  \n",
       "966   According to the New York Times, Facebook suff...  \n",
       "1346  Intuit, Inc. suffered a data breach that affec...  \n",
       "131   Location of breached information: Email\\r\\r\\nB...  \n",
       "2296  Location of breached information: Electronic M...  \n",
       "\n",
       "[5 rows x 108 columns]"
      ]
     },
     "execution_count": 34,
     "metadata": {},
     "output_type": "execute_result"
    }
   ],
   "source": [
    "df_t0.head()"
   ]
  },
  {
   "cell_type": "code",
   "execution_count": 36,
   "metadata": {},
   "outputs": [
    {
     "data": {
      "text/html": [
       "<div>\n",
       "<style scoped>\n",
       "    .dataframe tbody tr th:only-of-type {\n",
       "        vertical-align: middle;\n",
       "    }\n",
       "\n",
       "    .dataframe tbody tr th {\n",
       "        vertical-align: top;\n",
       "    }\n",
       "\n",
       "    .dataframe thead th {\n",
       "        text-align: right;\n",
       "    }\n",
       "</style>\n",
       "<table border=\"1\" class=\"dataframe\">\n",
       "  <thead>\n",
       "    <tr style=\"text-align: right;\">\n",
       "      <th></th>\n",
       "      <th>Name.of.Primary.SIC.industry</th>\n",
       "      <th>CyberPreparedness</th>\n",
       "    </tr>\n",
       "  </thead>\n",
       "  <tbody>\n",
       "    <tr>\n",
       "      <th>2196</th>\n",
       "      <td>HOSPITAL &amp; MEDICAL SERVICE PLANS</td>\n",
       "      <td>0.0</td>\n",
       "    </tr>\n",
       "    <tr>\n",
       "      <th>966</th>\n",
       "      <td>SOCIAL NETWORKING</td>\n",
       "      <td>1.0</td>\n",
       "    </tr>\n",
       "    <tr>\n",
       "      <th>1346</th>\n",
       "      <td>SERVICES-PREPACKAGED SOFTWARE</td>\n",
       "      <td>1.0</td>\n",
       "    </tr>\n",
       "    <tr>\n",
       "      <th>131</th>\n",
       "      <td>ACCIDENT &amp; HEALTH INSURANCE</td>\n",
       "      <td>0.0</td>\n",
       "    </tr>\n",
       "    <tr>\n",
       "      <th>2296</th>\n",
       "      <td>RETAIL-VARIETY STORES</td>\n",
       "      <td>1.0</td>\n",
       "    </tr>\n",
       "  </tbody>\n",
       "</table>\n",
       "</div>"
      ],
      "text/plain": [
       "          Name.of.Primary.SIC.industry  CyberPreparedness\n",
       "2196  HOSPITAL & MEDICAL SERVICE PLANS                0.0\n",
       "966                  SOCIAL NETWORKING                1.0\n",
       "1346     SERVICES-PREPACKAGED SOFTWARE                1.0\n",
       "131        ACCIDENT & HEALTH INSURANCE                0.0\n",
       "2296             RETAIL-VARIETY STORES                1.0"
      ]
     },
     "execution_count": 36,
     "metadata": {},
     "output_type": "execute_result"
    }
   ],
   "source": [
    "ICP = df_t0[['Name.of.Primary.SIC.industry','CyberPreparedness']]\n",
    "ICP.head()"
   ]
  },
  {
   "cell_type": "code",
   "execution_count": 40,
   "metadata": {},
   "outputs": [],
   "source": [
    "ICPgrp = ICP.groupby('Name.of.Primary.SIC.industry')"
   ]
  },
  {
   "cell_type": "code",
   "execution_count": 59,
   "metadata": {},
   "outputs": [
    {
     "data": {
      "text/plain": [
       "pandas.core.series.Series"
      ]
     },
     "execution_count": 59,
     "metadata": {},
     "output_type": "execute_result"
    }
   ],
   "source": [
    "type(ICPgrp.describe().CyberPreparedness['count'].sort_values(ascending=False).head(10))"
   ]
  },
  {
   "cell_type": "code",
   "execution_count": 61,
   "metadata": {},
   "outputs": [
    {
     "data": {
      "text/plain": [
       "Name.of.Primary.SIC.industry\n",
       "COMMERCIAL AND STOCK SAVINGS BANKS                 40.0\n",
       "HOSPITAL & MEDICAL SERVICE PLANS                   25.0\n",
       "SERVICES-PREPACKAGED SOFTWARE                      21.0\n",
       "RETAIL-DRUG STORES AND PROPRIETARY STORES          18.0\n",
       "RETAIL-EATING PLACES                               18.0\n",
       "PERSONAL CREDIT INSTITUTIONS                       16.0\n",
       "TELEPHONE COMMUNICATIONS (NO RADIOTELEPHONE)       15.0\n",
       "SECURITY BROKERS, DEALERS & FLOTATION COMPANIES    15.0\n",
       "LIFE INSURANCE                                     11.0\n",
       "SERVICES-COMPUTER PROCESSING & DATA PREPARATION     8.0\n",
       "Name: count, dtype: float64"
      ]
     },
     "execution_count": 61,
     "metadata": {},
     "output_type": "execute_result"
    }
   ],
   "source": [
    "top_ICPgrp = ICPgrp.describe().CyberPreparedness['count'].sort_values(ascending=False).head(10)\n",
    "top_ICPgrp"
   ]
  },
  {
   "cell_type": "code",
   "execution_count": 70,
   "metadata": {},
   "outputs": [
    {
     "data": {
      "text/plain": [
       "Index(['COMMERCIAL AND STOCK SAVINGS BANKS',\n",
       "       'HOSPITAL & MEDICAL SERVICE PLANS', 'SERVICES-PREPACKAGED SOFTWARE',\n",
       "       'RETAIL-DRUG STORES AND PROPRIETARY STORES', 'RETAIL-EATING PLACES',\n",
       "       'PERSONAL CREDIT INSTITUTIONS',\n",
       "       'TELEPHONE COMMUNICATIONS (NO RADIOTELEPHONE)',\n",
       "       'SECURITY BROKERS, DEALERS & FLOTATION COMPANIES', 'LIFE INSURANCE',\n",
       "       'SERVICES-COMPUTER PROCESSING & DATA PREPARATION'],\n",
       "      dtype='object', name='Name.of.Primary.SIC.industry')"
      ]
     },
     "execution_count": 70,
     "metadata": {},
     "output_type": "execute_result"
    }
   ],
   "source": [
    "top_ICPgrp.index"
   ]
  }
 ],
 "metadata": {
  "kernelspec": {
   "display_name": "Python 3",
   "language": "python",
   "name": "python3"
  },
  "language_info": {
   "codemirror_mode": {
    "name": "ipython",
    "version": 3
   },
   "file_extension": ".py",
   "mimetype": "text/x-python",
   "name": "python",
   "nbconvert_exporter": "python",
   "pygments_lexer": "ipython3",
   "version": "3.6.5"
  }
 },
 "nbformat": 4,
 "nbformat_minor": 2
}
